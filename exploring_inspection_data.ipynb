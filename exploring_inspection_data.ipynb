{
 "cells": [
  {
   "cell_type": "code",
   "execution_count": 1,
   "metadata": {
    "collapsed": true
   },
   "outputs": [],
   "source": [
    "import graphlab"
   ]
  },
  {
   "cell_type": "code",
   "execution_count": 2,
   "metadata": {
    "collapsed": false
   },
   "outputs": [
    {
     "name": "stderr",
     "output_type": "stream",
     "text": [
      "2016-10-30 13:21:56,222 [INFO] graphlab.cython.cy_server, 176: GraphLab Create v1.9 started. Logging: /tmp/graphlab_server_1477848115.log\n"
     ]
    },
    {
     "name": "stdout",
     "output_type": "stream",
     "text": [
      "This non-commercial license of GraphLab Create for academic use is assigned to sam30@gatech.edu and will expire on April 17, 2017.\n"
     ]
    },
    {
     "data": {
      "text/html": [
       "<pre>Finished parsing file /home/sam/Desktop/data_incubator/Q3/DOHMH_New_York_City_Restaurant_Inspection_Results.csv</pre>"
      ],
      "text/plain": [
       "Finished parsing file /home/sam/Desktop/data_incubator/Q3/DOHMH_New_York_City_Restaurant_Inspection_Results.csv"
      ]
     },
     "metadata": {},
     "output_type": "display_data"
    },
    {
     "data": {
      "text/html": [
       "<pre>Parsing completed. Parsed 100 lines in 1.73326 secs.</pre>"
      ],
      "text/plain": [
       "Parsing completed. Parsed 100 lines in 1.73326 secs."
      ]
     },
     "metadata": {},
     "output_type": "display_data"
    },
    {
     "name": "stdout",
     "output_type": "stream",
     "text": [
      "------------------------------------------------------\n",
      "Inferred types from first 100 line(s) of file as \n",
      "column_type_hints=[int,str,str,int,str,int,int,str,str,str,str,str,str,int,str,str,str,str]\n",
      "If parsing fails due to incorrect types, you can correct\n",
      "the inferred type list above and pass it to read_csv in\n",
      "the column_type_hints argument\n",
      "------------------------------------------------------\n"
     ]
    },
    {
     "data": {
      "text/html": [
       "<pre>Unable to parse line \"50001973,CASCATA,QUEENS,NKA,JFK INTL AIRPORT,11430,5164919105,Sandwiches/Salads/Mixed Buffet,06/17/2015,No violations were recorded at the time of this inspection.,,,Not Applicable,,,,10/28/2016,Trans Fat / Initial Inspection\"</pre>"
      ],
      "text/plain": [
       "Unable to parse line \"50001973,CASCATA,QUEENS,NKA,JFK INTL AIRPORT,11430,5164919105,Sandwiches/Salads/Mixed Buffet,06/17/2015,No violations were recorded at the time of this inspection.,,,Not Applicable,,,,10/28/2016,Trans Fat / Initial Inspection\""
      ]
     },
     "metadata": {},
     "output_type": "display_data"
    },
    {
     "data": {
      "text/html": [
       "<pre>Unable to parse line \"40364691,DINING ROOM,MANHATTAN,.1-A,EAST 77 ST,10021,2127341468,Continental,12/11/2015,Violations were cited in the following area(s).,02B,Hot food item not held at or above 140 F.,Critical,13,A,12/11/2015,10/28/2016,Cycle Inspection / Initial Inspection\"</pre>"
      ],
      "text/plain": [
       "Unable to parse line \"40364691,DINING ROOM,MANHATTAN,.1-A,EAST 77 ST,10021,2127341468,Continental,12/11/2015,Violations were cited in the following area(s).,02B,Hot food item not held at or above 140 F.,Critical,13,A,12/11/2015,10/28/2016,Cycle Inspection / Initial Inspection\""
      ]
     },
     "metadata": {},
     "output_type": "display_data"
    },
    {
     "data": {
      "text/html": [
       "<pre>Unable to parse line \"50002433,BROOKLYN BEER GARDEN,QUEENS,NKA,JFK INTERNATIONAL AIRPORT,11430,6464835087,German,05/15/2014,Violations were cited in the following area(s).,10F,\"Non-food contact surface improperly constructed. Unacceptable material used. Non-food contact surface...\"</pre>"
      ],
      "text/plain": [
       "Unable to parse line \"50002433,BROOKLYN BEER GARDEN,QUEENS,NKA,JFK INTERNATIONAL AIRPORT,11430,6464835087,German,05/15/2014,Violations were cited in the following area(s).,10F,\"Non-food contact surface improperly constructed. Unacceptable material used. Non-food contact surface...\""
      ]
     },
     "metadata": {},
     "output_type": "display_data"
    },
    {
     "data": {
      "text/html": [
       "<pre>Unable to parse line \"50001249,TIGIN IRISH PUB/PEETS COFFEE&TEA/CANAL STREET NOODLE HOUSE,QUEENS,NKA,JFK INTERNATIONAL AIRPORT,11432,7187514764,American,02/27/2014,Violations were cited in the following area(s).,22C,\"Bulb not shielded or shatterproof, in areas where there is ex...\"</pre>"
      ],
      "text/plain": [
       "Unable to parse line \"50001249,TIGIN IRISH PUB/PEETS COFFEE&TEA/CANAL STREET NOODLE HOUSE,QUEENS,NKA,JFK INTERNATIONAL AIRPORT,11432,7187514764,American,02/27/2014,Violations were cited in the following area(s).,22C,\"Bulb not shielded or shatterproof, in areas where there is ex...\""
      ]
     },
     "metadata": {},
     "output_type": "display_data"
    },
    {
     "data": {
      "text/html": [
       "<pre>Unable to parse line \"50000413,UPTOWN BRASSERIE,QUEENS,NKA,JFK INTERNATIONAL AIRPORT,11430,9174853185,American,11/05/2015,Violations were cited in the following area(s).,20F,Current letter grade card not posted.,Not Critical,,,,10/28/2016,Administrative Miscellaneous / Initial ...\"</pre>"
      ],
      "text/plain": [
       "Unable to parse line \"50000413,UPTOWN BRASSERIE,QUEENS,NKA,JFK INTERNATIONAL AIRPORT,11430,9174853185,American,11/05/2015,Violations were cited in the following area(s).,20F,Current letter grade card not posted.,Not Critical,,,,10/28/2016,Administrative Miscellaneous / Initial ...\""
      ]
     },
     "metadata": {},
     "output_type": "display_data"
    },
    {
     "data": {
      "text/html": [
       "<pre>Unable to parse line \"50001248,PANDA EXPRESS,QUEENS,NKA,JFK INTERNATIONAL AIRPORT,11432,7187514787,Chinese,02/18/2016,Violations were cited in the following area(s).,10B,Plumbing not properly installed or maintained; anti-siphonage or backflow prevention device not provided whe...\"</pre>"
      ],
      "text/plain": [
       "Unable to parse line \"50001248,PANDA EXPRESS,QUEENS,NKA,JFK INTERNATIONAL AIRPORT,11432,7187514787,Chinese,02/18/2016,Violations were cited in the following area(s).,10B,Plumbing not properly installed or maintained; anti-siphonage or backflow prevention device not provided whe...\""
      ]
     },
     "metadata": {},
     "output_type": "display_data"
    },
    {
     "data": {
      "text/html": [
       "<pre>Unable to parse line \"41396865,LEGENDS 000,BRONX,1,EAST  161 STREET,10451,__________,American,05/25/2016,Violations were cited in the following area(s).,04H,\"Raw, cooked or prepared food is adulterated, contaminated, cross-contaminated, or not discarded in accordance with HACCP...\"</pre>"
      ],
      "text/plain": [
       "Unable to parse line \"41396865,LEGENDS 000,BRONX,1,EAST  161 STREET,10451,__________,American,05/25/2016,Violations were cited in the following area(s).,04H,\"Raw, cooked or prepared food is adulterated, contaminated, cross-contaminated, or not discarded in accordance with HACCP...\""
      ]
     },
     "metadata": {},
     "output_type": "display_data"
    },
    {
     "data": {
      "text/html": [
       "<pre>Unable to parse line \"50004473,LOFT,QUEENS,NKA,JFK INTERNATIONAL AIRPORT,11430,3479064073,American,01/30/2014,Violations were cited in the following area(s).,09C,Food contact surface not properly maintained.,Not Critical,12,A,01/30/2014,10/28/2016,Pre-permit (Operational) / Ini...\"</pre>"
      ],
      "text/plain": [
       "Unable to parse line \"50004473,LOFT,QUEENS,NKA,JFK INTERNATIONAL AIRPORT,11430,3479064073,American,01/30/2014,Violations were cited in the following area(s).,09C,Food contact surface not properly maintained.,Not Critical,12,A,01/30/2014,10/28/2016,Pre-permit (Operational) / Ini...\""
      ]
     },
     "metadata": {},
     "output_type": "display_data"
    },
    {
     "data": {
      "text/html": [
       "<pre>Unable to parse line \"50035292,THE LOCAL @ JFK,QUEENS,NKA,JFK INTL AIRPORT 58H,11430,7187512899,American,03/31/2016,Violations were cited in the following area(s).,10F,\"Non-food contact surface improperly constructed. Unacceptable material used. Non-food contact surface or equi...\"</pre>"
      ],
      "text/plain": [
       "Unable to parse line \"50035292,THE LOCAL @ JFK,QUEENS,NKA,JFK INTL AIRPORT 58H,11430,7187512899,American,03/31/2016,Violations were cited in the following area(s).,10F,\"Non-food contact surface improperly constructed. Unacceptable material used. Non-food contact surface or equi...\""
      ]
     },
     "metadata": {},
     "output_type": "display_data"
    },
    {
     "data": {
      "text/html": [
       "<pre>Unable to parse line \"50038901,LE PAIN QUOTIDIEN,MANHATTAN,PQ,BRYANT PARK KIOSK2,10018,2123545224,French,11/13/2015,Violations were cited in the following area(s).,06D,\"Food contact surface not properly washed, rinsed and sanitized after each use and following any activity when...\"</pre>"
      ],
      "text/plain": [
       "Unable to parse line \"50038901,LE PAIN QUOTIDIEN,MANHATTAN,PQ,BRYANT PARK KIOSK2,10018,2123545224,French,11/13/2015,Violations were cited in the following area(s).,06D,\"Food contact surface not properly washed, rinsed and sanitized after each use and following any activity when...\""
      ]
     },
     "metadata": {},
     "output_type": "display_data"
    },
    {
     "data": {
      "text/html": [
       "<pre>Read 143751 lines. Lines per second: 58432.9</pre>"
      ],
      "text/plain": [
       "Read 143751 lines. Lines per second: 58432.9"
      ]
     },
     "metadata": {},
     "output_type": "display_data"
    },
    {
     "data": {
      "text/html": [
       "<pre>1180 lines failed to parse correctly</pre>"
      ],
      "text/plain": [
       "1180 lines failed to parse correctly"
      ]
     },
     "metadata": {},
     "output_type": "display_data"
    },
    {
     "data": {
      "text/html": [
       "<pre>Finished parsing file /home/sam/Desktop/data_incubator/Q3/DOHMH_New_York_City_Restaurant_Inspection_Results.csv</pre>"
      ],
      "text/plain": [
       "Finished parsing file /home/sam/Desktop/data_incubator/Q3/DOHMH_New_York_City_Restaurant_Inspection_Results.csv"
      ]
     },
     "metadata": {},
     "output_type": "display_data"
    },
    {
     "data": {
      "text/html": [
       "<pre>Parsing completed. Parsed 438755 lines in 4.0797 secs.</pre>"
      ],
      "text/plain": [
       "Parsing completed. Parsed 438755 lines in 4.0797 secs."
      ]
     },
     "metadata": {},
     "output_type": "display_data"
    }
   ],
   "source": [
    "data = graphlab.SFrame.read_csv_with_errors('DOHMH_New_York_City_Restaurant_Inspection_Results.csv')"
   ]
  },
  {
   "cell_type": "code",
   "execution_count": 3,
   "metadata": {
    "collapsed": false
   },
   "outputs": [],
   "source": [
    "data = data[0]"
   ]
  },
  {
   "cell_type": "code",
   "execution_count": 4,
   "metadata": {
    "collapsed": false
   },
   "outputs": [
    {
     "data": {
      "text/html": [
       "<div style=\"max-height:1000px;max-width:1500px;overflow:auto;\"><table frame=\"box\" rules=\"cols\">\n",
       "    <tr>\n",
       "        <th style=\"padding-left: 1em; padding-right: 1em; text-align: center\">CAMIS</th>\n",
       "        <th style=\"padding-left: 1em; padding-right: 1em; text-align: center\">DBA</th>\n",
       "        <th style=\"padding-left: 1em; padding-right: 1em; text-align: center\">BORO</th>\n",
       "        <th style=\"padding-left: 1em; padding-right: 1em; text-align: center\">BUILDING</th>\n",
       "        <th style=\"padding-left: 1em; padding-right: 1em; text-align: center\">STREET</th>\n",
       "        <th style=\"padding-left: 1em; padding-right: 1em; text-align: center\">ZIPCODE</th>\n",
       "        <th style=\"padding-left: 1em; padding-right: 1em; text-align: center\">PHONE</th>\n",
       "    </tr>\n",
       "    <tr>\n",
       "        <td style=\"padding-left: 1em; padding-right: 1em; text-align: center; vertical-align: top\">50018908</td>\n",
       "        <td style=\"padding-left: 1em; padding-right: 1em; text-align: center; vertical-align: top\">POLLO FELIZ</td>\n",
       "        <td style=\"padding-left: 1em; padding-right: 1em; text-align: center; vertical-align: top\">QUEENS</td>\n",
       "        <td style=\"padding-left: 1em; padding-right: 1em; text-align: center; vertical-align: top\">8956</td>\n",
       "        <td style=\"padding-left: 1em; padding-right: 1em; text-align: center; vertical-align: top\">ELMHURST AVE</td>\n",
       "        <td style=\"padding-left: 1em; padding-right: 1em; text-align: center; vertical-align: top\">11373</td>\n",
       "        <td style=\"padding-left: 1em; padding-right: 1em; text-align: center; vertical-align: top\">7187889888</td>\n",
       "    </tr>\n",
       "    <tr>\n",
       "        <td style=\"padding-left: 1em; padding-right: 1em; text-align: center; vertical-align: top\">41368406</td>\n",
       "        <td style=\"padding-left: 1em; padding-right: 1em; text-align: center; vertical-align: top\">DUNKIN' DONUTS</td>\n",
       "        <td style=\"padding-left: 1em; padding-right: 1em; text-align: center; vertical-align: top\">QUEENS</td>\n",
       "        <td style=\"padding-left: 1em; padding-right: 1em; text-align: center; vertical-align: top\">10801</td>\n",
       "        <td style=\"padding-left: 1em; padding-right: 1em; text-align: center; vertical-align: top\">GRAND CENTRAL PARKWAY</td>\n",
       "        <td style=\"padding-left: 1em; padding-right: 1em; text-align: center; vertical-align: top\">11369</td>\n",
       "        <td style=\"padding-left: 1em; padding-right: 1em; text-align: center; vertical-align: top\">7184781926</td>\n",
       "    </tr>\n",
       "    <tr>\n",
       "        <td style=\"padding-left: 1em; padding-right: 1em; text-align: center; vertical-align: top\">50034815</td>\n",
       "        <td style=\"padding-left: 1em; padding-right: 1em; text-align: center; vertical-align: top\">TERIYAKI BURRITO HOUSE</td>\n",
       "        <td style=\"padding-left: 1em; padding-right: 1em; text-align: center; vertical-align: top\">BROOKLYN</td>\n",
       "        <td style=\"padding-left: 1em; padding-right: 1em; text-align: center; vertical-align: top\">96</td>\n",
       "        <td style=\"padding-left: 1em; padding-right: 1em; text-align: center; vertical-align: top\">DEKALB AVE</td>\n",
       "        <td style=\"padding-left: 1em; padding-right: 1em; text-align: center; vertical-align: top\">11201</td>\n",
       "        <td style=\"padding-left: 1em; padding-right: 1em; text-align: center; vertical-align: top\">9174000800</td>\n",
       "    </tr>\n",
       "    <tr>\n",
       "        <td style=\"padding-left: 1em; padding-right: 1em; text-align: center; vertical-align: top\">40402428</td>\n",
       "        <td style=\"padding-left: 1em; padding-right: 1em; text-align: center; vertical-align: top\">DOWN TOWN ASSOCIATION</td>\n",
       "        <td style=\"padding-left: 1em; padding-right: 1em; text-align: center; vertical-align: top\">MANHATTAN</td>\n",
       "        <td style=\"padding-left: 1em; padding-right: 1em; text-align: center; vertical-align: top\">60</td>\n",
       "        <td style=\"padding-left: 1em; padding-right: 1em; text-align: center; vertical-align: top\">PINE STREET</td>\n",
       "        <td style=\"padding-left: 1em; padding-right: 1em; text-align: center; vertical-align: top\">10005</td>\n",
       "        <td style=\"padding-left: 1em; padding-right: 1em; text-align: center; vertical-align: top\">2124221982</td>\n",
       "    </tr>\n",
       "    <tr>\n",
       "        <td style=\"padding-left: 1em; padding-right: 1em; text-align: center; vertical-align: top\">50002265</td>\n",
       "        <td style=\"padding-left: 1em; padding-right: 1em; text-align: center; vertical-align: top\">SUSHI NAKAZAWA</td>\n",
       "        <td style=\"padding-left: 1em; padding-right: 1em; text-align: center; vertical-align: top\">MANHATTAN</td>\n",
       "        <td style=\"padding-left: 1em; padding-right: 1em; text-align: center; vertical-align: top\">23</td>\n",
       "        <td style=\"padding-left: 1em; padding-right: 1em; text-align: center; vertical-align: top\">COMMERCE STREET</td>\n",
       "        <td style=\"padding-left: 1em; padding-right: 1em; text-align: center; vertical-align: top\">10014</td>\n",
       "        <td style=\"padding-left: 1em; padding-right: 1em; text-align: center; vertical-align: top\">2129242212</td>\n",
       "    </tr>\n",
       "    <tr>\n",
       "        <td style=\"padding-left: 1em; padding-right: 1em; text-align: center; vertical-align: top\">50012166</td>\n",
       "        <td style=\"padding-left: 1em; padding-right: 1em; text-align: center; vertical-align: top\">GARDEN CITY CHINESE<br>RESTAURANT ...</td>\n",
       "        <td style=\"padding-left: 1em; padding-right: 1em; text-align: center; vertical-align: top\">QUEENS</td>\n",
       "        <td style=\"padding-left: 1em; padding-right: 1em; text-align: center; vertical-align: top\">22401</td>\n",
       "        <td style=\"padding-left: 1em; padding-right: 1em; text-align: center; vertical-align: top\">MERRICK BLVD</td>\n",
       "        <td style=\"padding-left: 1em; padding-right: 1em; text-align: center; vertical-align: top\">11413</td>\n",
       "        <td style=\"padding-left: 1em; padding-right: 1em; text-align: center; vertical-align: top\">7185288886</td>\n",
       "    </tr>\n",
       "    <tr>\n",
       "        <td style=\"padding-left: 1em; padding-right: 1em; text-align: center; vertical-align: top\">50012296</td>\n",
       "        <td style=\"padding-left: 1em; padding-right: 1em; text-align: center; vertical-align: top\">GOLDEN WOK CHINESE<br>RESTAURANT ...</td>\n",
       "        <td style=\"padding-left: 1em; padding-right: 1em; text-align: center; vertical-align: top\">MANHATTAN</td>\n",
       "        <td style=\"padding-left: 1em; padding-right: 1em; text-align: center; vertical-align: top\">209</td>\n",
       "        <td style=\"padding-left: 1em; padding-right: 1em; text-align: center; vertical-align: top\">8TH AVE</td>\n",
       "        <td style=\"padding-left: 1em; padding-right: 1em; text-align: center; vertical-align: top\">10011</td>\n",
       "        <td style=\"padding-left: 1em; padding-right: 1em; text-align: center; vertical-align: top\">2126200712</td>\n",
       "    </tr>\n",
       "    <tr>\n",
       "        <td style=\"padding-left: 1em; padding-right: 1em; text-align: center; vertical-align: top\">41253401</td>\n",
       "        <td style=\"padding-left: 1em; padding-right: 1em; text-align: center; vertical-align: top\">CALIFORNIA PIZZA KITCHEN</td>\n",
       "        <td style=\"padding-left: 1em; padding-right: 1em; text-align: center; vertical-align: top\">MANHATTAN</td>\n",
       "        <td style=\"padding-left: 1em; padding-right: 1em; text-align: center; vertical-align: top\">440</td>\n",
       "        <td style=\"padding-left: 1em; padding-right: 1em; text-align: center; vertical-align: top\">PARK AVENUE SOUTH</td>\n",
       "        <td style=\"padding-left: 1em; padding-right: 1em; text-align: center; vertical-align: top\">10016</td>\n",
       "        <td style=\"padding-left: 1em; padding-right: 1em; text-align: center; vertical-align: top\">2126856700</td>\n",
       "    </tr>\n",
       "    <tr>\n",
       "        <td style=\"padding-left: 1em; padding-right: 1em; text-align: center; vertical-align: top\">50036616</td>\n",
       "        <td style=\"padding-left: 1em; padding-right: 1em; text-align: center; vertical-align: top\">GOSSIP COFFEE</td>\n",
       "        <td style=\"padding-left: 1em; padding-right: 1em; text-align: center; vertical-align: top\">QUEENS</td>\n",
       "        <td style=\"padding-left: 1em; padding-right: 1em; text-align: center; vertical-align: top\">3704</td>\n",
       "        <td style=\"padding-left: 1em; padding-right: 1em; text-align: center; vertical-align: top\">30TH AVE</td>\n",
       "        <td style=\"padding-left: 1em; padding-right: 1em; text-align: center; vertical-align: top\">11103</td>\n",
       "        <td style=\"padding-left: 1em; padding-right: 1em; text-align: center; vertical-align: top\">7184408792</td>\n",
       "    </tr>\n",
       "    <tr>\n",
       "        <td style=\"padding-left: 1em; padding-right: 1em; text-align: center; vertical-align: top\">40826386</td>\n",
       "        <td style=\"padding-left: 1em; padding-right: 1em; text-align: center; vertical-align: top\">SOMBRERO MEXICAN<br>RESTAURANT ...</td>\n",
       "        <td style=\"padding-left: 1em; padding-right: 1em; text-align: center; vertical-align: top\">MANHATTAN</td>\n",
       "        <td style=\"padding-left: 1em; padding-right: 1em; text-align: center; vertical-align: top\">303</td>\n",
       "        <td style=\"padding-left: 1em; padding-right: 1em; text-align: center; vertical-align: top\">WEST   48 STREET</td>\n",
       "        <td style=\"padding-left: 1em; padding-right: 1em; text-align: center; vertical-align: top\">10036</td>\n",
       "        <td style=\"padding-left: 1em; padding-right: 1em; text-align: center; vertical-align: top\">2125864853</td>\n",
       "    </tr>\n",
       "</table>\n",
       "<table frame=\"box\" rules=\"cols\">\n",
       "    <tr>\n",
       "        <th style=\"padding-left: 1em; padding-right: 1em; text-align: center\">CUISINE DESCRIPTION</th>\n",
       "        <th style=\"padding-left: 1em; padding-right: 1em; text-align: center\">INSPECTION DATE</th>\n",
       "        <th style=\"padding-left: 1em; padding-right: 1em; text-align: center\">ACTION</th>\n",
       "        <th style=\"padding-left: 1em; padding-right: 1em; text-align: center\">VIOLATION CODE</th>\n",
       "        <th style=\"padding-left: 1em; padding-right: 1em; text-align: center\">VIOLATION DESCRIPTION</th>\n",
       "    </tr>\n",
       "    <tr>\n",
       "        <td style=\"padding-left: 1em; padding-right: 1em; text-align: center; vertical-align: top\">Chicken</td>\n",
       "        <td style=\"padding-left: 1em; padding-right: 1em; text-align: center; vertical-align: top\">06/08/2015</td>\n",
       "        <td style=\"padding-left: 1em; padding-right: 1em; text-align: center; vertical-align: top\">Violations were cited in<br>the following area(s). ...</td>\n",
       "        <td style=\"padding-left: 1em; padding-right: 1em; text-align: center; vertical-align: top\">10F</td>\n",
       "        <td style=\"padding-left: 1em; padding-right: 1em; text-align: center; vertical-align: top\">Non-food contact surface<br>improperly constructed. ...</td>\n",
       "    </tr>\n",
       "    <tr>\n",
       "        <td style=\"padding-left: 1em; padding-right: 1em; text-align: center; vertical-align: top\">Donuts</td>\n",
       "        <td style=\"padding-left: 1em; padding-right: 1em; text-align: center; vertical-align: top\">05/18/2015</td>\n",
       "        <td style=\"padding-left: 1em; padding-right: 1em; text-align: center; vertical-align: top\">Establishment Closed by<br>DOHMH.  Violations were ...</td>\n",
       "        <td style=\"padding-left: 1em; padding-right: 1em; text-align: center; vertical-align: top\">06C</td>\n",
       "        <td style=\"padding-left: 1em; padding-right: 1em; text-align: center; vertical-align: top\">Food not protected from<br>potential source of ...</td>\n",
       "    </tr>\n",
       "    <tr>\n",
       "        <td style=\"padding-left: 1em; padding-right: 1em; text-align: center; vertical-align: top\">Asian</td>\n",
       "        <td style=\"padding-left: 1em; padding-right: 1em; text-align: center; vertical-align: top\">05/27/2016</td>\n",
       "        <td style=\"padding-left: 1em; padding-right: 1em; text-align: center; vertical-align: top\">Violations were cited in<br>the following area(s). ...</td>\n",
       "        <td style=\"padding-left: 1em; padding-right: 1em; text-align: center; vertical-align: top\">10B</td>\n",
       "        <td style=\"padding-left: 1em; padding-right: 1em; text-align: center; vertical-align: top\">Plumbing not properly<br>installed or maintained; ...</td>\n",
       "    </tr>\n",
       "    <tr>\n",
       "        <td style=\"padding-left: 1em; padding-right: 1em; text-align: center; vertical-align: top\">American</td>\n",
       "        <td style=\"padding-left: 1em; padding-right: 1em; text-align: center; vertical-align: top\">10/16/2013</td>\n",
       "        <td style=\"padding-left: 1em; padding-right: 1em; text-align: center; vertical-align: top\">Violations were cited in<br>the following area(s). ...</td>\n",
       "        <td style=\"padding-left: 1em; padding-right: 1em; text-align: center; vertical-align: top\">16B</td>\n",
       "        <td style=\"padding-left: 1em; padding-right: 1em; text-align: center; vertical-align: top\">The original nutritional<br>fact labels and/or ...</td>\n",
       "    </tr>\n",
       "    <tr>\n",
       "        <td style=\"padding-left: 1em; padding-right: 1em; text-align: center; vertical-align: top\">Japanese</td>\n",
       "        <td style=\"padding-left: 1em; padding-right: 1em; text-align: center; vertical-align: top\">06/21/2016</td>\n",
       "        <td style=\"padding-left: 1em; padding-right: 1em; text-align: center; vertical-align: top\">Violations were cited in<br>the following area(s). ...</td>\n",
       "        <td style=\"padding-left: 1em; padding-right: 1em; text-align: center; vertical-align: top\">15I</td>\n",
       "        <td style=\"padding-left: 1em; padding-right: 1em; text-align: center; vertical-align: top\">''''No Smoking\u001a and/or<br>'Smoking Permitted\u001a sign ...</td>\n",
       "    </tr>\n",
       "    <tr>\n",
       "        <td style=\"padding-left: 1em; padding-right: 1em; text-align: center; vertical-align: top\">Chinese</td>\n",
       "        <td style=\"padding-left: 1em; padding-right: 1em; text-align: center; vertical-align: top\">06/28/2016</td>\n",
       "        <td style=\"padding-left: 1em; padding-right: 1em; text-align: center; vertical-align: top\">Violations were cited in<br>the following area(s). ...</td>\n",
       "        <td style=\"padding-left: 1em; padding-right: 1em; text-align: center; vertical-align: top\">05D</td>\n",
       "        <td style=\"padding-left: 1em; padding-right: 1em; text-align: center; vertical-align: top\">Hand washing facility not<br>provided in or near food ...</td>\n",
       "    </tr>\n",
       "    <tr>\n",
       "        <td style=\"padding-left: 1em; padding-right: 1em; text-align: center; vertical-align: top\">Chinese</td>\n",
       "        <td style=\"padding-left: 1em; padding-right: 1em; text-align: center; vertical-align: top\">12/15/2015</td>\n",
       "        <td style=\"padding-left: 1em; padding-right: 1em; text-align: center; vertical-align: top\">Violations were cited in<br>the following area(s). ...</td>\n",
       "        <td style=\"padding-left: 1em; padding-right: 1em; text-align: center; vertical-align: top\">08A</td>\n",
       "        <td style=\"padding-left: 1em; padding-right: 1em; text-align: center; vertical-align: top\">Facility not vermin<br>proof. Harborage or ...</td>\n",
       "    </tr>\n",
       "    <tr>\n",
       "        <td style=\"padding-left: 1em; padding-right: 1em; text-align: center; vertical-align: top\">Pizza/Italian</td>\n",
       "        <td style=\"padding-left: 1em; padding-right: 1em; text-align: center; vertical-align: top\">10/16/2014</td>\n",
       "        <td style=\"padding-left: 1em; padding-right: 1em; text-align: center; vertical-align: top\">Violations were cited in<br>the following area(s). ...</td>\n",
       "        <td style=\"padding-left: 1em; padding-right: 1em; text-align: center; vertical-align: top\">02G</td>\n",
       "        <td style=\"padding-left: 1em; padding-right: 1em; text-align: center; vertical-align: top\">Cold food item held above<br>41 F (smoked fish and ...</td>\n",
       "    </tr>\n",
       "    <tr>\n",
       "        <td style=\"padding-left: 1em; padding-right: 1em; text-align: center; vertical-align: top\">Caf/Coffee/Tea</td>\n",
       "        <td style=\"padding-left: 1em; padding-right: 1em; text-align: center; vertical-align: top\">08/27/2015</td>\n",
       "        <td style=\"padding-left: 1em; padding-right: 1em; text-align: center; vertical-align: top\">Establishment Closed by<br>DOHMH.  Violations were ...</td>\n",
       "        <td style=\"padding-left: 1em; padding-right: 1em; text-align: center; vertical-align: top\">05H</td>\n",
       "        <td style=\"padding-left: 1em; padding-right: 1em; text-align: center; vertical-align: top\">No facilities available<br>to wash, rinse and ...</td>\n",
       "    </tr>\n",
       "    <tr>\n",
       "        <td style=\"padding-left: 1em; padding-right: 1em; text-align: center; vertical-align: top\">Mexican</td>\n",
       "        <td style=\"padding-left: 1em; padding-right: 1em; text-align: center; vertical-align: top\">11/16/2015</td>\n",
       "        <td style=\"padding-left: 1em; padding-right: 1em; text-align: center; vertical-align: top\">Violations were cited in<br>the following area(s). ...</td>\n",
       "        <td style=\"padding-left: 1em; padding-right: 1em; text-align: center; vertical-align: top\">08A</td>\n",
       "        <td style=\"padding-left: 1em; padding-right: 1em; text-align: center; vertical-align: top\">Facility not vermin<br>proof. Harborage or ...</td>\n",
       "    </tr>\n",
       "</table>\n",
       "<table frame=\"box\" rules=\"cols\">\n",
       "    <tr>\n",
       "        <th style=\"padding-left: 1em; padding-right: 1em; text-align: center\">CRITICAL FLAG</th>\n",
       "        <th style=\"padding-left: 1em; padding-right: 1em; text-align: center\">SCORE</th>\n",
       "        <th style=\"padding-left: 1em; padding-right: 1em; text-align: center\">GRADE</th>\n",
       "        <th style=\"padding-left: 1em; padding-right: 1em; text-align: center\">GRADE DATE</th>\n",
       "        <th style=\"padding-left: 1em; padding-right: 1em; text-align: center\">RECORD DATE</th>\n",
       "        <th style=\"padding-left: 1em; padding-right: 1em; text-align: center\">INSPECTION TYPE</th>\n",
       "    </tr>\n",
       "    <tr>\n",
       "        <td style=\"padding-left: 1em; padding-right: 1em; text-align: center; vertical-align: top\">Not Critical</td>\n",
       "        <td style=\"padding-left: 1em; padding-right: 1em; text-align: center; vertical-align: top\">2</td>\n",
       "        <td style=\"padding-left: 1em; padding-right: 1em; text-align: center; vertical-align: top\"></td>\n",
       "        <td style=\"padding-left: 1em; padding-right: 1em; text-align: center; vertical-align: top\"></td>\n",
       "        <td style=\"padding-left: 1em; padding-right: 1em; text-align: center; vertical-align: top\">10/28/2016</td>\n",
       "        <td style=\"padding-left: 1em; padding-right: 1em; text-align: center; vertical-align: top\">Pre-permit (Operational)<br>/ Compliance Inspection ...</td>\n",
       "    </tr>\n",
       "    <tr>\n",
       "        <td style=\"padding-left: 1em; padding-right: 1em; text-align: center; vertical-align: top\">Critical</td>\n",
       "        <td style=\"padding-left: 1em; padding-right: 1em; text-align: center; vertical-align: top\">62</td>\n",
       "        <td style=\"padding-left: 1em; padding-right: 1em; text-align: center; vertical-align: top\"></td>\n",
       "        <td style=\"padding-left: 1em; padding-right: 1em; text-align: center; vertical-align: top\"></td>\n",
       "        <td style=\"padding-left: 1em; padding-right: 1em; text-align: center; vertical-align: top\">10/28/2016</td>\n",
       "        <td style=\"padding-left: 1em; padding-right: 1em; text-align: center; vertical-align: top\">Cycle Inspection /<br>Initial Inspection ...</td>\n",
       "    </tr>\n",
       "    <tr>\n",
       "        <td style=\"padding-left: 1em; padding-right: 1em; text-align: center; vertical-align: top\">Not Critical</td>\n",
       "        <td style=\"padding-left: 1em; padding-right: 1em; text-align: center; vertical-align: top\">5</td>\n",
       "        <td style=\"padding-left: 1em; padding-right: 1em; text-align: center; vertical-align: top\">A</td>\n",
       "        <td style=\"padding-left: 1em; padding-right: 1em; text-align: center; vertical-align: top\">05/27/2016</td>\n",
       "        <td style=\"padding-left: 1em; padding-right: 1em; text-align: center; vertical-align: top\">10/28/2016</td>\n",
       "        <td style=\"padding-left: 1em; padding-right: 1em; text-align: center; vertical-align: top\">Cycle Inspection /<br>Initial Inspection ...</td>\n",
       "    </tr>\n",
       "    <tr>\n",
       "        <td style=\"padding-left: 1em; padding-right: 1em; text-align: center; vertical-align: top\">Not Critical</td>\n",
       "        <td style=\"padding-left: 1em; padding-right: 1em; text-align: center; vertical-align: top\">None</td>\n",
       "        <td style=\"padding-left: 1em; padding-right: 1em; text-align: center; vertical-align: top\"></td>\n",
       "        <td style=\"padding-left: 1em; padding-right: 1em; text-align: center; vertical-align: top\"></td>\n",
       "        <td style=\"padding-left: 1em; padding-right: 1em; text-align: center; vertical-align: top\">10/28/2016</td>\n",
       "        <td style=\"padding-left: 1em; padding-right: 1em; text-align: center; vertical-align: top\">Trans Fat / Re-inspection</td>\n",
       "    </tr>\n",
       "    <tr>\n",
       "        <td style=\"padding-left: 1em; padding-right: 1em; text-align: center; vertical-align: top\">Not Critical</td>\n",
       "        <td style=\"padding-left: 1em; padding-right: 1em; text-align: center; vertical-align: top\">None</td>\n",
       "        <td style=\"padding-left: 1em; padding-right: 1em; text-align: center; vertical-align: top\"></td>\n",
       "        <td style=\"padding-left: 1em; padding-right: 1em; text-align: center; vertical-align: top\"></td>\n",
       "        <td style=\"padding-left: 1em; padding-right: 1em; text-align: center; vertical-align: top\">10/28/2016</td>\n",
       "        <td style=\"padding-left: 1em; padding-right: 1em; text-align: center; vertical-align: top\">Smoke-Free Air Act / Re-<br>inspection ...</td>\n",
       "    </tr>\n",
       "    <tr>\n",
       "        <td style=\"padding-left: 1em; padding-right: 1em; text-align: center; vertical-align: top\">Critical</td>\n",
       "        <td style=\"padding-left: 1em; padding-right: 1em; text-align: center; vertical-align: top\">12</td>\n",
       "        <td style=\"padding-left: 1em; padding-right: 1em; text-align: center; vertical-align: top\">A</td>\n",
       "        <td style=\"padding-left: 1em; padding-right: 1em; text-align: center; vertical-align: top\">06/28/2016</td>\n",
       "        <td style=\"padding-left: 1em; padding-right: 1em; text-align: center; vertical-align: top\">10/28/2016</td>\n",
       "        <td style=\"padding-left: 1em; padding-right: 1em; text-align: center; vertical-align: top\">Cycle Inspection /<br>Initial Inspection ...</td>\n",
       "    </tr>\n",
       "    <tr>\n",
       "        <td style=\"padding-left: 1em; padding-right: 1em; text-align: center; vertical-align: top\">Not Critical</td>\n",
       "        <td style=\"padding-left: 1em; padding-right: 1em; text-align: center; vertical-align: top\">31</td>\n",
       "        <td style=\"padding-left: 1em; padding-right: 1em; text-align: center; vertical-align: top\"></td>\n",
       "        <td style=\"padding-left: 1em; padding-right: 1em; text-align: center; vertical-align: top\"></td>\n",
       "        <td style=\"padding-left: 1em; padding-right: 1em; text-align: center; vertical-align: top\">10/28/2016</td>\n",
       "        <td style=\"padding-left: 1em; padding-right: 1em; text-align: center; vertical-align: top\">Cycle Inspection /<br>Initial Inspection ...</td>\n",
       "    </tr>\n",
       "    <tr>\n",
       "        <td style=\"padding-left: 1em; padding-right: 1em; text-align: center; vertical-align: top\">Critical</td>\n",
       "        <td style=\"padding-left: 1em; padding-right: 1em; text-align: center; vertical-align: top\">13</td>\n",
       "        <td style=\"padding-left: 1em; padding-right: 1em; text-align: center; vertical-align: top\">A</td>\n",
       "        <td style=\"padding-left: 1em; padding-right: 1em; text-align: center; vertical-align: top\">10/16/2014</td>\n",
       "        <td style=\"padding-left: 1em; padding-right: 1em; text-align: center; vertical-align: top\">10/28/2016</td>\n",
       "        <td style=\"padding-left: 1em; padding-right: 1em; text-align: center; vertical-align: top\">Cycle Inspection /<br>Initial Inspection ...</td>\n",
       "    </tr>\n",
       "    <tr>\n",
       "        <td style=\"padding-left: 1em; padding-right: 1em; text-align: center; vertical-align: top\">Critical</td>\n",
       "        <td style=\"padding-left: 1em; padding-right: 1em; text-align: center; vertical-align: top\">53</td>\n",
       "        <td style=\"padding-left: 1em; padding-right: 1em; text-align: center; vertical-align: top\"></td>\n",
       "        <td style=\"padding-left: 1em; padding-right: 1em; text-align: center; vertical-align: top\"></td>\n",
       "        <td style=\"padding-left: 1em; padding-right: 1em; text-align: center; vertical-align: top\">10/28/2016</td>\n",
       "        <td style=\"padding-left: 1em; padding-right: 1em; text-align: center; vertical-align: top\">Pre-permit (Operational)<br>/ Initial Inspection ...</td>\n",
       "    </tr>\n",
       "    <tr>\n",
       "        <td style=\"padding-left: 1em; padding-right: 1em; text-align: center; vertical-align: top\">Not Critical</td>\n",
       "        <td style=\"padding-left: 1em; padding-right: 1em; text-align: center; vertical-align: top\">26</td>\n",
       "        <td style=\"padding-left: 1em; padding-right: 1em; text-align: center; vertical-align: top\"></td>\n",
       "        <td style=\"padding-left: 1em; padding-right: 1em; text-align: center; vertical-align: top\"></td>\n",
       "        <td style=\"padding-left: 1em; padding-right: 1em; text-align: center; vertical-align: top\">10/28/2016</td>\n",
       "        <td style=\"padding-left: 1em; padding-right: 1em; text-align: center; vertical-align: top\">Cycle Inspection /<br>Initial Inspection ...</td>\n",
       "    </tr>\n",
       "</table>\n",
       "[438755 rows x 18 columns]<br/>Note: Only the head of the SFrame is printed.<br/>You can use print_rows(num_rows=m, num_columns=n) to print more rows and columns.\n",
       "</div>"
      ],
      "text/plain": [
       "Columns:\n",
       "\tCAMIS\tint\n",
       "\tDBA\tstr\n",
       "\tBORO\tstr\n",
       "\tBUILDING\tint\n",
       "\tSTREET\tstr\n",
       "\tZIPCODE\tint\n",
       "\tPHONE\tint\n",
       "\tCUISINE DESCRIPTION\tstr\n",
       "\tINSPECTION DATE\tstr\n",
       "\tACTION\tstr\n",
       "\tVIOLATION CODE\tstr\n",
       "\tVIOLATION DESCRIPTION\tstr\n",
       "\tCRITICAL FLAG\tstr\n",
       "\tSCORE\tint\n",
       "\tGRADE\tstr\n",
       "\tGRADE DATE\tstr\n",
       "\tRECORD DATE\tstr\n",
       "\tINSPECTION TYPE\tstr\n",
       "\n",
       "Rows: 438755\n",
       "\n",
       "Data:\n",
       "+----------+--------------------------------+-----------+----------+\n",
       "|  CAMIS   |              DBA               |    BORO   | BUILDING |\n",
       "+----------+--------------------------------+-----------+----------+\n",
       "| 50018908 |          POLLO FELIZ           |   QUEENS  |   8956   |\n",
       "| 41368406 |         DUNKIN' DONUTS         |   QUEENS  |  10801   |\n",
       "| 50034815 |     TERIYAKI BURRITO HOUSE     |  BROOKLYN |    96    |\n",
       "| 40402428 |     DOWN TOWN ASSOCIATION      | MANHATTAN |    60    |\n",
       "| 50002265 |         SUSHI NAKAZAWA         | MANHATTAN |    23    |\n",
       "| 50012166 | GARDEN CITY CHINESE RESTAURANT |   QUEENS  |  22401   |\n",
       "| 50012296 | GOLDEN WOK CHINESE RESTAURANT  | MANHATTAN |   209    |\n",
       "| 41253401 |    CALIFORNIA PIZZA KITCHEN    | MANHATTAN |   440    |\n",
       "| 50036616 |         GOSSIP COFFEE          |   QUEENS  |   3704   |\n",
       "| 40826386 |  SOMBRERO MEXICAN RESTAURANT   | MANHATTAN |   303    |\n",
       "+----------+--------------------------------+-----------+----------+\n",
       "+-----------------------+---------+------------+---------------------+\n",
       "|         STREET        | ZIPCODE |   PHONE    | CUISINE DESCRIPTION |\n",
       "+-----------------------+---------+------------+---------------------+\n",
       "|      ELMHURST AVE     |  11373  | 7187889888 |       Chicken       |\n",
       "| GRAND CENTRAL PARKWAY |  11369  | 7184781926 |        Donuts       |\n",
       "|       DEKALB AVE      |  11201  | 9174000800 |        Asian        |\n",
       "|      PINE STREET      |  10005  | 2124221982 |       American      |\n",
       "|    COMMERCE STREET    |  10014  | 2129242212 |       Japanese      |\n",
       "|      MERRICK BLVD     |  11413  | 7185288886 |       Chinese       |\n",
       "|        8TH AVE        |  10011  | 2126200712 |       Chinese       |\n",
       "|   PARK AVENUE SOUTH   |  10016  | 2126856700 |    Pizza/Italian    |\n",
       "|        30TH AVE       |  11103  | 7184408792 |    Caf/Coffee/Tea   |\n",
       "|    WEST   48 STREET   |  10036  | 2125864853 |       Mexican       |\n",
       "+-----------------------+---------+------------+---------------------+\n",
       "+-----------------+-------------------------------+----------------+\n",
       "| INSPECTION DATE |             ACTION            | VIOLATION CODE |\n",
       "+-----------------+-------------------------------+----------------+\n",
       "|    06/08/2015   | Violations were cited in t... |      10F       |\n",
       "|    05/18/2015   | Establishment Closed by DO... |      06C       |\n",
       "|    05/27/2016   | Violations were cited in t... |      10B       |\n",
       "|    10/16/2013   | Violations were cited in t... |      16B       |\n",
       "|    06/21/2016   | Violations were cited in t... |      15I       |\n",
       "|    06/28/2016   | Violations were cited in t... |      05D       |\n",
       "|    12/15/2015   | Violations were cited in t... |      08A       |\n",
       "|    10/16/2014   | Violations were cited in t... |      02G       |\n",
       "|    08/27/2015   | Establishment Closed by DO... |      05H       |\n",
       "|    11/16/2015   | Violations were cited in t... |      08A       |\n",
       "+-----------------+-------------------------------+----------------+\n",
       "+-------------------------------+---------------+-------+-------+------------+\n",
       "|     VIOLATION DESCRIPTION     | CRITICAL FLAG | SCORE | GRADE | GRADE DATE |\n",
       "+-------------------------------+---------------+-------+-------+------------+\n",
       "| Non-food contact surface i... |  Not Critical |   2   |       |            |\n",
       "| Food not protected from po... |    Critical   |   62  |       |            |\n",
       "| Plumbing not properly inst... |  Not Critical |   5   |   A   | 05/27/2016 |\n",
       "| The original nutritional f... |  Not Critical |  None |       |            |\n",
       "| ''''No Smoking\u001a and/or 'Sm... |  Not Critical |  None |       |            |\n",
       "| Hand washing facility not ... |    Critical   |   12  |   A   | 06/28/2016 |\n",
       "| Facility not vermin proof.... |  Not Critical |   31  |       |            |\n",
       "| Cold food item held above ... |    Critical   |   13  |   A   | 10/16/2014 |\n",
       "| No facilities available to... |    Critical   |   53  |       |            |\n",
       "| Facility not vermin proof.... |  Not Critical |   26  |       |            |\n",
       "+-------------------------------+---------------+-------+-------+------------+\n",
       "+-------------+-------------------------------+\n",
       "| RECORD DATE |        INSPECTION TYPE        |\n",
       "+-------------+-------------------------------+\n",
       "|  10/28/2016 | Pre-permit (Operational) /... |\n",
       "|  10/28/2016 | Cycle Inspection / Initial... |\n",
       "|  10/28/2016 | Cycle Inspection / Initial... |\n",
       "|  10/28/2016 |   Trans Fat / Re-inspection   |\n",
       "|  10/28/2016 | Smoke-Free Air Act / Re-in... |\n",
       "|  10/28/2016 | Cycle Inspection / Initial... |\n",
       "|  10/28/2016 | Cycle Inspection / Initial... |\n",
       "|  10/28/2016 | Cycle Inspection / Initial... |\n",
       "|  10/28/2016 | Pre-permit (Operational) /... |\n",
       "|  10/28/2016 | Cycle Inspection / Initial... |\n",
       "+-------------+-------------------------------+\n",
       "[438755 rows x 18 columns]\n",
       "Note: Only the head of the SFrame is printed.\n",
       "You can use print_rows(num_rows=m, num_columns=n) to print more rows and columns."
      ]
     },
     "execution_count": 4,
     "metadata": {},
     "output_type": "execute_result"
    }
   ],
   "source": [
    "data"
   ]
  },
  {
   "cell_type": "code",
   "execution_count": 5,
   "metadata": {
    "collapsed": true
   },
   "outputs": [],
   "source": [
    "graphlab.canvas.set_target('ipynb')"
   ]
  },
  {
   "cell_type": "code",
   "execution_count": 6,
   "metadata": {
    "collapsed": false
   },
   "outputs": [],
   "source": [
    "data_per_case = data.groupby(key_columns=['CAMIS', 'PHONE' ], \n",
    "             operations= {'Count':graphlab.aggregate.COUNT('CAMIS'), \n",
    "                          'average_score': graphlab.aggregate.MEAN('SCORE'),\n",
    "                          'min_score': graphlab.aggregate.MIN('SCORE'),\n",
    "                          'max_score': graphlab.aggregate.MAX('SCORE'),\n",
    "                          'std_score': graphlab.aggregate.STD('SCORE'),\n",
    "                          'flag_freq': graphlab.aggregate.FREQ_COUNT('CRITICAL FLAG'),\n",
    "                          'code_freq': graphlab.aggregate.FREQ_COUNT('VIOLATION CODE')})"
   ]
  },
  {
   "cell_type": "code",
   "execution_count": 7,
   "metadata": {
    "collapsed": true
   },
   "outputs": [],
   "source": [
    "critical_descs = data[data['CRITICAL FLAG'] == 'Critical']"
   ]
  },
  {
   "cell_type": "code",
   "execution_count": 8,
   "metadata": {
    "collapsed": false
   },
   "outputs": [
    {
     "data": {
      "text/plain": [
       "24049"
      ]
     },
     "execution_count": 8,
     "metadata": {},
     "output_type": "execute_result"
    }
   ],
   "source": [
    "critical_descs.groupby(key_columns='CAMIS', \n",
    "             operations= {'Count':graphlab.aggregate.COUNT('CAMIS')}).num_rows()"
   ]
  },
  {
   "cell_type": "code",
   "execution_count": 9,
   "metadata": {
    "collapsed": false
   },
   "outputs": [],
   "source": [
    "critical_data = critical_descs.groupby(key_columns='VIOLATION CODE', \n",
    "                       operations= {'Count':graphlab.aggregate.COUNT('VIOLATION CODE'),\n",
    "                                    'descs':graphlab.aggregate.FREQ_COUNT('VIOLATION DESCRIPTION')})"
   ]
  },
  {
   "cell_type": "code",
   "execution_count": 10,
   "metadata": {
    "collapsed": true
   },
   "outputs": [],
   "source": [
    "non_critical_data = critical_descs.groupby(key_columns='VIOLATION CODE', \n",
    "                       operations= {'Count':graphlab.aggregate.COUNT('VIOLATION CODE'),\n",
    "                                    'descs':graphlab.aggregate.FREQ_COUNT('VIOLATION DESCRIPTION')})"
   ]
  },
  {
   "cell_type": "code",
   "execution_count": 11,
   "metadata": {
    "collapsed": false,
    "scrolled": false
   },
   "outputs": [],
   "source": [
    "def remove_punctuation(text):\n",
    "    import string\n",
    "    return text.translate(None, string.punctuation) \n",
    "\n",
    "no_punc = data['VIOLATION DESCRIPTION'].apply(remove_punctuation)"
   ]
  },
  {
   "cell_type": "code",
   "execution_count": 12,
   "metadata": {
    "collapsed": false,
    "scrolled": true
   },
   "outputs": [
    {
     "name": "stdout",
     "output_type": "stream",
     "text": [
      "+----------------+-------+-------------------------------+-------------------+\n",
      "| VIOLATION CODE | Count |             descs             |        Freq       |\n",
      "+----------------+-------+-------------------------------+-------------------+\n",
      "|      02G       | 33517 | {'Cold food item held abov... |   0.139293744104  |\n",
      "|      04L       | 30246 | {\"Evidence of mice or live... |   0.125699751892  |\n",
      "|      06D       | 27336 | {'Food contact surface not... |   0.11360604436   |\n",
      "|      06C       | 25952 | {'Food not protected from ... |   0.107854260434  |\n",
      "|      02B       | 21057 | {'Hot food item not held a... |   0.087511065119  |\n",
      "|      04N       | 20560 | {'Filth flies or food/refu... |  0.0854455762382  |\n",
      "|      04H       | 10653 | {'Raw, cooked or prepared ... |   0.044272943758  |\n",
      "|      04M       | 10428 | {\"Live roaches present in ... |  0.0433378632788  |\n",
      "|      06E       |  9797 | {'Sanitized equipment or u... |  0.0407154820236  |\n",
      "|      06F       |  8400 | {'Wiping cloths soiled or ... |  0.0349096712257  |\n",
      "|      06A       |  8169 | {'Personal cleanliness ina... |   0.033949655267  |\n",
      "|      04A       |  7915 | {'Food Protection Certific... |  0.0328940533037  |\n",
      "|      02H       |  4360 | {'Food not cooled by an ap... |  0.0181197817314  |\n",
      "|      04J       |  4004 | {'Appropriately scaled met... |  0.0166402766176  |\n",
      "|      05D       |  3936 | {'Hand washing facility no... |  0.0163576745172  |\n",
      "|      04C       |  3653 | {'Food worker does not use... |  0.0151815510699  |\n",
      "|      06B       |  2831 | {'Tobacco use, eating, or ... |  0.0117653903857  |\n",
      "|      04K       |  2780 | {\"Evidence of rats or live... |  0.0115534388104  |\n",
      "|      05H       |  849  | {'No facilities available ... |  0.00352837034174 |\n",
      "|      05F       |  689  | {'Insufficient or no refri... |  0.00286342422316 |\n",
      "|      02C       |  493  | {'Hot food item that has b... |  0.00204886522789 |\n",
      "|      03A       |  402  | {'Food from unapproved or ... |  0.00167067712294 |\n",
      "|      04D       |  391  | {'Food worker does not was... |  0.00162496207729 |\n",
      "|      02A       |  366  | {'Food not cooked to requi... |  0.00152106424626 |\n",
      "|      04E       |  293  | {'Toxic chemical improperl... |  0.00121768257966 |\n",
      "|      04O       |  282  | {\"Live animals other than ... |  0.00117196753401 |\n",
      "|      03B       |  211  | {'Shellfish not from appro... | 0.000876897693884 |\n",
      "|      03C       |  156  | {'Eggs found dirty/cracked... |  0.00064832246562 |\n",
      "|      05E       |  141  | {'Toilet facility not prov... | 0.000585983767003 |\n",
      "|      02I       |  140  | {'Food prepared from ingre... | 0.000581827853762 |\n",
      "|      06G       |  112  | {'HACCP plan not approved ... | 0.000465462283009 |\n",
      "|      05C       |   96  | {'Food contact surface imp... | 0.000398967671151 |\n",
      "|      04F       |   75  | {'Food, food preparation a... | 0.000311693493087 |\n",
      "|      05A       |   67  | {'Sewage disposal system i... | 0.000278446187157 |\n",
      "|      07A       |   55  | {'Duties of an officer of ... | 0.000228575228264 |\n",
      "|      05B       |   42  | {'Harmful, noxious gas or ... | 0.000174548356129 |\n",
      "|      04B       |   34  | {'Food worker prepares foo... | 0.000141301050199 |\n",
      "|      02D       |   29  | {'Precooked potentially ha... | 0.000120521483994 |\n",
      "|      03D       |   24  | {'Canned food product obse... | 9.97419177877e-05 |\n",
      "|      03G       |   15  | {'Raw food not properly wa... | 6.23386986173e-05 |\n",
      "|      06I       |   12  | {'Food not labeled in acco... | 4.98709588939e-05 |\n",
      "|      02F       |   12  | {'Meat, fish or molluscan ... | 4.98709588939e-05 |\n",
      "|      04I       |   11  | {'Unprotected food re-serv... | 4.57150456527e-05 |\n",
      "|      06H       |   9   | {'Records and logs not mai... | 3.74032191704e-05 |\n",
      "|      03E       |   9   | {'Potable water supply ina... | 3.74032191704e-05 |\n",
      "|      04G       |   4   | {'Unprotected potentially ... | 1.66236529646e-05 |\n",
      "|      02J       |   3   | {'Reduced oxygen packaged ... | 1.24677397235e-05 |\n",
      "|      02E       |   3   | {'Whole frozen poultry or ... | 1.24677397235e-05 |\n",
      "|      03F       |   1   | {'Unpasteurized milk or mi... | 4.15591324116e-06 |\n",
      "|      05I       |   1   | {'Refrigeration used to im... | 4.15591324116e-06 |\n",
      "+----------------+-------+-------------------------------+-------------------+\n",
      "[50 rows x 4 columns]\n",
      "\n"
     ]
    }
   ],
   "source": [
    "critical_data['Freq'] = critical_data['Count'] / 240621.\n",
    "critical_data.sort('Count', ascending=False).print_rows(num_rows=50)"
   ]
  },
  {
   "cell_type": "code",
   "execution_count": 13,
   "metadata": {
    "collapsed": false
   },
   "outputs": [
    {
     "data": {
      "text/plain": [
       "dtype: dict\n",
       "Rows: ?\n",
       "[{'Toilet facility not provided for employees or for patrons when required.': 141}, ... ]"
      ]
     },
     "execution_count": 13,
     "metadata": {},
     "output_type": "execute_result"
    }
   ],
   "source": [
    "critical_data[critical_data['VIOLATION CODE']=='05E']['descs']"
   ]
  },
  {
   "cell_type": "code",
   "execution_count": 14,
   "metadata": {
    "collapsed": false
   },
   "outputs": [],
   "source": [
    "import matplotlib\n",
    "%matplotlib inline\n",
    "import matplotlib.pyplot as plt\n",
    "import numpy as np\n",
    "from wordcloud import WordCloud"
   ]
  },
  {
   "cell_type": "code",
   "execution_count": 15,
   "metadata": {
    "collapsed": false
   },
   "outputs": [],
   "source": [
    "text = ''\n",
    "for row in critical_data.sort('Count', ascending=False).head():\n",
    "    words = row['descs'].keys()[0]\n",
    "    for i in range(int(row['Freq']*100)):\n",
    "        text += words"
   ]
  },
  {
   "cell_type": "code",
   "execution_count": 16,
   "metadata": {
    "collapsed": true
   },
   "outputs": [],
   "source": [
    "wordcloud = WordCloud().generate(text)"
   ]
  },
  {
   "cell_type": "code",
   "execution_count": 134,
   "metadata": {
    "collapsed": false
   },
   "outputs": [
    {
     "data": {
      "image/png": "[encoded data removed]",
      "text/plain": [
       "<matplotlib.figure.Figure at 0x7fb0944a0210>"
      ]
     },
     "metadata": {},
     "output_type": "display_data"
    }
   ],
   "source": [
    "wordcloud = WordCloud().generate(text)\n",
    "plt.imshow(wordcloud)\n",
    "plt.axis(\"off\")\n",
    "plt.savefig('wordcloud.png', dpi=300)"
   ]
  },
  {
   "cell_type": "code",
   "execution_count": 132,
   "metadata": {
    "collapsed": false
   },
   "outputs": [
    {
     "data": {
      "image/png": "[encoded data removed]",
      "text/plain": [
       "<matplotlib.figure.Figure at 0x7fb09448b590>"
      ]
     },
     "metadata": {},
     "output_type": "display_data"
    },
    {
     "data": {
      "text/plain": [
       "<matplotlib.figure.Figure at 0x7fb094411c90>"
      ]
     },
     "metadata": {},
     "output_type": "display_data"
    }
   ],
   "source": [
    "wordcloud = WordCloud(max_font_size=40).generate(text)\n",
    "plt.figure()\n",
    "plt.imshow(wordcloud)\n",
    "plt.axis(\"off\")\n",
    "plt.show()\n"
   ]
  },
  {
   "cell_type": "code",
   "execution_count": 15,
   "metadata": {
    "collapsed": false
   },
   "outputs": [
    {
     "data": {
      "text/plain": [
       "0.9305808149208683"
      ]
     },
     "execution_count": 15,
     "metadata": {},
     "output_type": "execute_result"
    }
   ],
   "source": [
    "N_total  = data_per_case.num_rows()\n",
    "def has_critical(dic):\n",
    "    if 'Critical' in dic and dic['Critical'] > 0:\n",
    "        return 1\n",
    "    else:\n",
    "        return 0\n",
    "data_per_case['has_critical'] = data_per_case['flag_freq'].apply(has_critical)\n",
    "\n",
    "data_per_case['has_critical'].sum() / float(N_total)"
   ]
  },
  {
   "cell_type": "code",
   "execution_count": 16,
   "metadata": {
    "collapsed": false
   },
   "outputs": [
    {
     "data": {
      "text/html": [
       "<div style=\"max-height:1000px;max-width:1500px;overflow:auto;\"><table frame=\"box\" rules=\"cols\">\n",
       "    <tr>\n",
       "        <th style=\"padding-left: 1em; padding-right: 1em; text-align: center\">CAMIS</th>\n",
       "        <th style=\"padding-left: 1em; padding-right: 1em; text-align: center\">PHONE</th>\n",
       "        <th style=\"padding-left: 1em; padding-right: 1em; text-align: center\">Count</th>\n",
       "        <th style=\"padding-left: 1em; padding-right: 1em; text-align: center\">std_score</th>\n",
       "        <th style=\"padding-left: 1em; padding-right: 1em; text-align: center\">min_score</th>\n",
       "        <th style=\"padding-left: 1em; padding-right: 1em; text-align: center\">average_score</th>\n",
       "        <th style=\"padding-left: 1em; padding-right: 1em; text-align: center\">flag_freq</th>\n",
       "    </tr>\n",
       "    <tr>\n",
       "        <td style=\"padding-left: 1em; padding-right: 1em; text-align: center; vertical-align: top\">50015663</td>\n",
       "        <td style=\"padding-left: 1em; padding-right: 1em; text-align: center; vertical-align: top\">7188887770</td>\n",
       "        <td style=\"padding-left: 1em; padding-right: 1em; text-align: center; vertical-align: top\">24</td>\n",
       "        <td style=\"padding-left: 1em; padding-right: 1em; text-align: center; vertical-align: top\">17.7873385864</td>\n",
       "        <td style=\"padding-left: 1em; padding-right: 1em; text-align: center; vertical-align: top\">11</td>\n",
       "        <td style=\"padding-left: 1em; padding-right: 1em; text-align: center; vertical-align: top\">28.0434782609</td>\n",
       "        <td style=\"padding-left: 1em; padding-right: 1em; text-align: center; vertical-align: top\">{'Not Critical': 8,<br>'Critical': 16} ...</td>\n",
       "    </tr>\n",
       "    <tr>\n",
       "        <td style=\"padding-left: 1em; padding-right: 1em; text-align: center; vertical-align: top\">41701178</td>\n",
       "        <td style=\"padding-left: 1em; padding-right: 1em; text-align: center; vertical-align: top\">7186222722</td>\n",
       "        <td style=\"padding-left: 1em; padding-right: 1em; text-align: center; vertical-align: top\">17</td>\n",
       "        <td style=\"padding-left: 1em; padding-right: 1em; text-align: center; vertical-align: top\">2.83819719572</td>\n",
       "        <td style=\"padding-left: 1em; padding-right: 1em; text-align: center; vertical-align: top\">7</td>\n",
       "        <td style=\"padding-left: 1em; padding-right: 1em; text-align: center; vertical-align: top\">12.9411764706</td>\n",
       "        <td style=\"padding-left: 1em; padding-right: 1em; text-align: center; vertical-align: top\">{'Not Critical': 6,<br>'Critical': 11} ...</td>\n",
       "    </tr>\n",
       "    <tr>\n",
       "        <td style=\"padding-left: 1em; padding-right: 1em; text-align: center; vertical-align: top\">50056245</td>\n",
       "        <td style=\"padding-left: 1em; padding-right: 1em; text-align: center; vertical-align: top\">2122192282</td>\n",
       "        <td style=\"padding-left: 1em; padding-right: 1em; text-align: center; vertical-align: top\">1</td>\n",
       "        <td style=\"padding-left: 1em; padding-right: 1em; text-align: center; vertical-align: top\">0.0</td>\n",
       "        <td style=\"padding-left: 1em; padding-right: 1em; text-align: center; vertical-align: top\">None</td>\n",
       "        <td style=\"padding-left: 1em; padding-right: 1em; text-align: center; vertical-align: top\">None</td>\n",
       "        <td style=\"padding-left: 1em; padding-right: 1em; text-align: center; vertical-align: top\">{'Not Applicable': 1}</td>\n",
       "    </tr>\n",
       "    <tr>\n",
       "        <td style=\"padding-left: 1em; padding-right: 1em; text-align: center; vertical-align: top\">41501688</td>\n",
       "        <td style=\"padding-left: 1em; padding-right: 1em; text-align: center; vertical-align: top\">2126772172</td>\n",
       "        <td style=\"padding-left: 1em; padding-right: 1em; text-align: center; vertical-align: top\">19</td>\n",
       "        <td style=\"padding-left: 1em; padding-right: 1em; text-align: center; vertical-align: top\">9.96443379367</td>\n",
       "        <td style=\"padding-left: 1em; padding-right: 1em; text-align: center; vertical-align: top\">4</td>\n",
       "        <td style=\"padding-left: 1em; padding-right: 1em; text-align: center; vertical-align: top\">14.6923076923</td>\n",
       "        <td style=\"padding-left: 1em; padding-right: 1em; text-align: center; vertical-align: top\">{'Not Critical': 12,<br>'Critical': 7} ...</td>\n",
       "    </tr>\n",
       "    <tr>\n",
       "        <td style=\"padding-left: 1em; padding-right: 1em; text-align: center; vertical-align: top\">41144948</td>\n",
       "        <td style=\"padding-left: 1em; padding-right: 1em; text-align: center; vertical-align: top\">2126004113</td>\n",
       "        <td style=\"padding-left: 1em; padding-right: 1em; text-align: center; vertical-align: top\">22</td>\n",
       "        <td style=\"padding-left: 1em; padding-right: 1em; text-align: center; vertical-align: top\">9.19562704696</td>\n",
       "        <td style=\"padding-left: 1em; padding-right: 1em; text-align: center; vertical-align: top\">4</td>\n",
       "        <td style=\"padding-left: 1em; padding-right: 1em; text-align: center; vertical-align: top\">17.4210526316</td>\n",
       "        <td style=\"padding-left: 1em; padding-right: 1em; text-align: center; vertical-align: top\">{'Not Critical': 12,<br>'Critical': 9, 'Not ...</td>\n",
       "    </tr>\n",
       "    <tr>\n",
       "        <td style=\"padding-left: 1em; padding-right: 1em; text-align: center; vertical-align: top\">41335133</td>\n",
       "        <td style=\"padding-left: 1em; padding-right: 1em; text-align: center; vertical-align: top\">2126087440</td>\n",
       "        <td style=\"padding-left: 1em; padding-right: 1em; text-align: center; vertical-align: top\">32</td>\n",
       "        <td style=\"padding-left: 1em; padding-right: 1em; text-align: center; vertical-align: top\">17.137341279</td>\n",
       "        <td style=\"padding-left: 1em; padding-right: 1em; text-align: center; vertical-align: top\">7</td>\n",
       "        <td style=\"padding-left: 1em; padding-right: 1em; text-align: center; vertical-align: top\">28.0344827586</td>\n",
       "        <td style=\"padding-left: 1em; padding-right: 1em; text-align: center; vertical-align: top\">{'Not Critical': 6,<br>'Critical': 24, 'Not ...</td>\n",
       "    </tr>\n",
       "    <tr>\n",
       "        <td style=\"padding-left: 1em; padding-right: 1em; text-align: center; vertical-align: top\">41160209</td>\n",
       "        <td style=\"padding-left: 1em; padding-right: 1em; text-align: center; vertical-align: top\">7183387272</td>\n",
       "        <td style=\"padding-left: 1em; padding-right: 1em; text-align: center; vertical-align: top\">6</td>\n",
       "        <td style=\"padding-left: 1em; padding-right: 1em; text-align: center; vertical-align: top\">3.41565025532</td>\n",
       "        <td style=\"padding-left: 1em; padding-right: 1em; text-align: center; vertical-align: top\">2</td>\n",
       "        <td style=\"padding-left: 1em; padding-right: 1em; text-align: center; vertical-align: top\">6.0</td>\n",
       "        <td style=\"padding-left: 1em; padding-right: 1em; text-align: center; vertical-align: top\">{'Not Critical': 4,<br>'Critical': 2} ...</td>\n",
       "    </tr>\n",
       "    <tr>\n",
       "        <td style=\"padding-left: 1em; padding-right: 1em; text-align: center; vertical-align: top\">50036334</td>\n",
       "        <td style=\"padding-left: 1em; padding-right: 1em; text-align: center; vertical-align: top\">6463675762</td>\n",
       "        <td style=\"padding-left: 1em; padding-right: 1em; text-align: center; vertical-align: top\">2</td>\n",
       "        <td style=\"padding-left: 1em; padding-right: 1em; text-align: center; vertical-align: top\">3.5</td>\n",
       "        <td style=\"padding-left: 1em; padding-right: 1em; text-align: center; vertical-align: top\">0</td>\n",
       "        <td style=\"padding-left: 1em; padding-right: 1em; text-align: center; vertical-align: top\">3.5</td>\n",
       "        <td style=\"padding-left: 1em; padding-right: 1em; text-align: center; vertical-align: top\">{'Critical': 1, 'Not<br>Applicable': 1} ...</td>\n",
       "    </tr>\n",
       "    <tr>\n",
       "        <td style=\"padding-left: 1em; padding-right: 1em; text-align: center; vertical-align: top\">50005447</td>\n",
       "        <td style=\"padding-left: 1em; padding-right: 1em; text-align: center; vertical-align: top\">7186391235</td>\n",
       "        <td style=\"padding-left: 1em; padding-right: 1em; text-align: center; vertical-align: top\">14</td>\n",
       "        <td style=\"padding-left: 1em; padding-right: 1em; text-align: center; vertical-align: top\">1.4356965173</td>\n",
       "        <td style=\"padding-left: 1em; padding-right: 1em; text-align: center; vertical-align: top\">8</td>\n",
       "        <td style=\"padding-left: 1em; padding-right: 1em; text-align: center; vertical-align: top\">10.2857142857</td>\n",
       "        <td style=\"padding-left: 1em; padding-right: 1em; text-align: center; vertical-align: top\">{'Not Critical': 6,<br>'Critical': 8} ...</td>\n",
       "    </tr>\n",
       "    <tr>\n",
       "        <td style=\"padding-left: 1em; padding-right: 1em; text-align: center; vertical-align: top\">41529703</td>\n",
       "        <td style=\"padding-left: 1em; padding-right: 1em; text-align: center; vertical-align: top\">2122472055</td>\n",
       "        <td style=\"padding-left: 1em; padding-right: 1em; text-align: center; vertical-align: top\">25</td>\n",
       "        <td style=\"padding-left: 1em; padding-right: 1em; text-align: center; vertical-align: top\">3.48343185963</td>\n",
       "        <td style=\"padding-left: 1em; padding-right: 1em; text-align: center; vertical-align: top\">9</td>\n",
       "        <td style=\"padding-left: 1em; padding-right: 1em; text-align: center; vertical-align: top\">13.9545454545</td>\n",
       "        <td style=\"padding-left: 1em; padding-right: 1em; text-align: center; vertical-align: top\">{'Not Critical': 17,<br>'Critical': 8} ...</td>\n",
       "    </tr>\n",
       "</table>\n",
       "<table frame=\"box\" rules=\"cols\">\n",
       "    <tr>\n",
       "        <th style=\"padding-left: 1em; padding-right: 1em; text-align: center\">code_freq</th>\n",
       "        <th style=\"padding-left: 1em; padding-right: 1em; text-align: center\">max_score</th>\n",
       "        <th style=\"padding-left: 1em; padding-right: 1em; text-align: center\">has_critical</th>\n",
       "    </tr>\n",
       "    <tr>\n",
       "        <td style=\"padding-left: 1em; padding-right: 1em; text-align: center; vertical-align: top\">{'04M': 1, '04L': 1,<br>'02B': 3, '03A': 1, ...</td>\n",
       "        <td style=\"padding-left: 1em; padding-right: 1em; text-align: center; vertical-align: top\">50</td>\n",
       "        <td style=\"padding-left: 1em; padding-right: 1em; text-align: center; vertical-align: top\">1</td>\n",
       "    </tr>\n",
       "    <tr>\n",
       "        <td style=\"padding-left: 1em; padding-right: 1em; text-align: center; vertical-align: top\">{'04N': 2, '04L': 4,<br>'10F': 1, '04A': 1, ...</td>\n",
       "        <td style=\"padding-left: 1em; padding-right: 1em; text-align: center; vertical-align: top\">16</td>\n",
       "        <td style=\"padding-left: 1em; padding-right: 1em; text-align: center; vertical-align: top\">1</td>\n",
       "    </tr>\n",
       "    <tr>\n",
       "        <td style=\"padding-left: 1em; padding-right: 1em; text-align: center; vertical-align: top\">{'': 1}</td>\n",
       "        <td style=\"padding-left: 1em; padding-right: 1em; text-align: center; vertical-align: top\">None</td>\n",
       "        <td style=\"padding-left: 1em; padding-right: 1em; text-align: center; vertical-align: top\">0</td>\n",
       "    </tr>\n",
       "    <tr>\n",
       "        <td style=\"padding-left: 1em; padding-right: 1em; text-align: center; vertical-align: top\">{'02G': 1, '10B': 1,<br>'22C': 1, '10F': 2, ...</td>\n",
       "        <td style=\"padding-left: 1em; padding-right: 1em; text-align: center; vertical-align: top\">27</td>\n",
       "        <td style=\"padding-left: 1em; padding-right: 1em; text-align: center; vertical-align: top\">1</td>\n",
       "    </tr>\n",
       "    <tr>\n",
       "        <td style=\"padding-left: 1em; padding-right: 1em; text-align: center; vertical-align: top\">{'': 1, '04N': 3, '02G':<br>1, '04L': 1, '04H': 1, ...</td>\n",
       "        <td style=\"padding-left: 1em; padding-right: 1em; text-align: center; vertical-align: top\">33</td>\n",
       "        <td style=\"padding-left: 1em; padding-right: 1em; text-align: center; vertical-align: top\">1</td>\n",
       "    </tr>\n",
       "    <tr>\n",
       "        <td style=\"padding-left: 1em; padding-right: 1em; text-align: center; vertical-align: top\">{'': 2, '04M': 1, '04J':<br>1, '04H': 1, '10B': 1, ...</td>\n",
       "        <td style=\"padding-left: 1em; padding-right: 1em; text-align: center; vertical-align: top\">56</td>\n",
       "        <td style=\"padding-left: 1em; padding-right: 1em; text-align: center; vertical-align: top\">1</td>\n",
       "    </tr>\n",
       "    <tr>\n",
       "        <td style=\"padding-left: 1em; padding-right: 1em; text-align: center; vertical-align: top\">{'10B': 1, '02G': 2,<br>'10F': 3} ...</td>\n",
       "        <td style=\"padding-left: 1em; padding-right: 1em; text-align: center; vertical-align: top\">10</td>\n",
       "        <td style=\"padding-left: 1em; padding-right: 1em; text-align: center; vertical-align: top\">1</td>\n",
       "    </tr>\n",
       "    <tr>\n",
       "        <td style=\"padding-left: 1em; padding-right: 1em; text-align: center; vertical-align: top\">{'': 1, '04C': 1}</td>\n",
       "        <td style=\"padding-left: 1em; padding-right: 1em; text-align: center; vertical-align: top\">7</td>\n",
       "        <td style=\"padding-left: 1em; padding-right: 1em; text-align: center; vertical-align: top\">1</td>\n",
       "    </tr>\n",
       "    <tr>\n",
       "        <td style=\"padding-left: 1em; padding-right: 1em; text-align: center; vertical-align: top\">{'10H': 1, '02B': 1,<br>'10B': 1, '10A': 1, ...</td>\n",
       "        <td style=\"padding-left: 1em; padding-right: 1em; text-align: center; vertical-align: top\">12</td>\n",
       "        <td style=\"padding-left: 1em; padding-right: 1em; text-align: center; vertical-align: top\">1</td>\n",
       "    </tr>\n",
       "    <tr>\n",
       "        <td style=\"padding-left: 1em; padding-right: 1em; text-align: center; vertical-align: top\">{'10H': 4, '10I': 1,<br>'04K': 1, '04H': 1, ...</td>\n",
       "        <td style=\"padding-left: 1em; padding-right: 1em; text-align: center; vertical-align: top\">20</td>\n",
       "        <td style=\"padding-left: 1em; padding-right: 1em; text-align: center; vertical-align: top\">1</td>\n",
       "    </tr>\n",
       "</table>\n",
       "[25843 rows x 10 columns]<br/>Note: Only the head of the SFrame is printed.<br/>You can use print_rows(num_rows=m, num_columns=n) to print more rows and columns.\n",
       "</div>"
      ],
      "text/plain": [
       "Columns:\n",
       "\tCAMIS\tint\n",
       "\tPHONE\tint\n",
       "\tCount\tint\n",
       "\tstd_score\tfloat\n",
       "\tmin_score\tint\n",
       "\taverage_score\tfloat\n",
       "\tflag_freq\tdict\n",
       "\tcode_freq\tdict\n",
       "\tmax_score\tint\n",
       "\thas_critical\tint\n",
       "\n",
       "Rows: 25843\n",
       "\n",
       "Data:\n",
       "+----------+------------+-------+---------------+-----------+---------------+\n",
       "|  CAMIS   |   PHONE    | Count |   std_score   | min_score | average_score |\n",
       "+----------+------------+-------+---------------+-----------+---------------+\n",
       "| 50015663 | 7188887770 |   24  | 17.7873385864 |     11    | 28.0434782609 |\n",
       "| 41701178 | 7186222722 |   17  | 2.83819719572 |     7     | 12.9411764706 |\n",
       "| 50056245 | 2122192282 |   1   |      0.0      |    None   |      None     |\n",
       "| 41501688 | 2126772172 |   19  | 9.96443379367 |     4     | 14.6923076923 |\n",
       "| 41144948 | 2126004113 |   22  | 9.19562704696 |     4     | 17.4210526316 |\n",
       "| 41335133 | 2126087440 |   32  |  17.137341279 |     7     | 28.0344827586 |\n",
       "| 41160209 | 7183387272 |   6   | 3.41565025532 |     2     |      6.0      |\n",
       "| 50036334 | 6463675762 |   2   |      3.5      |     0     |      3.5      |\n",
       "| 50005447 | 7186391235 |   14  |  1.4356965173 |     8     | 10.2857142857 |\n",
       "| 41529703 | 2122472055 |   25  | 3.48343185963 |     9     | 13.9545454545 |\n",
       "+----------+------------+-------+---------------+-----------+---------------+\n",
       "+-------------------------------+--------------------------------+-----------+--------------+\n",
       "|           flag_freq           |           code_freq            | max_score | has_critical |\n",
       "+-------------------------------+--------------------------------+-----------+--------------+\n",
       "| {'Not Critical': 8, 'Criti... | {'04M': 1, '04L': 1, '02B'...  |     50    |      1       |\n",
       "| {'Not Critical': 6, 'Criti... | {'04N': 2, '04L': 4, '10F'...  |     16    |      1       |\n",
       "|     {'Not Applicable': 1}     |            {'': 1}             |    None   |      0       |\n",
       "| {'Not Critical': 12, 'Crit... | {'02G': 1, '10B': 1, '22C'...  |     27    |      1       |\n",
       "| {'Not Critical': 12, 'Crit... | {'': 1, '04N': 3, '02G': 1...  |     33    |      1       |\n",
       "| {'Not Critical': 6, 'Criti... | {'': 2, '04M': 1, '04J': 1...  |     56    |      1       |\n",
       "| {'Not Critical': 4, 'Criti... | {'10B': 1, '02G': 2, '10F': 3} |     10    |      1       |\n",
       "| {'Critical': 1, 'Not Appli... |       {'': 1, '04C': 1}        |     7     |      1       |\n",
       "| {'Not Critical': 6, 'Criti... | {'10H': 1, '02B': 1, '10B'...  |     12    |      1       |\n",
       "| {'Not Critical': 17, 'Crit... | {'10H': 4, '10I': 1, '04K'...  |     20    |      1       |\n",
       "+-------------------------------+--------------------------------+-----------+--------------+\n",
       "[25843 rows x 10 columns]\n",
       "Note: Only the head of the SFrame is printed.\n",
       "You can use print_rows(num_rows=m, num_columns=n) to print more rows and columns."
      ]
     },
     "execution_count": 16,
     "metadata": {},
     "output_type": "execute_result"
    }
   ],
   "source": [
    "data_per_case"
   ]
  },
  {
   "cell_type": "code",
   "execution_count": 17,
   "metadata": {
    "collapsed": false
   },
   "outputs": [
    {
     "data": {
      "application/javascript": [
       "$(\"head\").append($(\"<link/>\").attr({\n",
       "  rel:  \"stylesheet\",\n",
       "  type: \"text/css\",\n",
       "  href: \"//cdnjs.cloudflare.com/ajax/libs/font-awesome/4.1.0/css/font-awesome.min.css\"\n",
       "}));\n",
       "$(\"head\").append($(\"<link/>\").attr({\n",
       "  rel:  \"stylesheet\",\n",
       "  type: \"text/css\",\n",
       "  href: \"//dato.com/files/canvas/1.9/css/canvas.css\"\n",
       "}));\n",
       "\n",
       "            (function(){\n",
       "\n",
       "                var e = null;\n",
       "                if (typeof element == 'undefined') {\n",
       "                    var scripts = document.getElementsByTagName('script');\n",
       "                    var thisScriptTag = scripts[scripts.length-1];\n",
       "                    var parentDiv = thisScriptTag.parentNode;\n",
       "                    e = document.createElement('div');\n",
       "                    parentDiv.appendChild(e);\n",
       "                } else {\n",
       "                    e = element[0];\n",
       "                }\n",
       "\n",
       "                if (typeof requirejs !== 'undefined') {\n",
       "                    // disable load timeout; ipython_app.js is large and can take a while to load.\n",
       "                    requirejs.config({waitSeconds: 0});\n",
       "                }\n",
       "\n",
       "                require(['//dato.com/files/canvas/1.9/js/ipython_app.js'], function(IPythonApp){\n",
       "                    var app = new IPythonApp();\n",
       "                    app.attachView('sarray','Numeric', {\"ipython\": true, \"sketch\": {\"std\": 14.85865672916922, \"complete\": true, \"min\": 0.0, \"max\": 156.0, \"quantile\": [0.0, 2.0, 4.0, 5.0, 7.0, 7.0, 8.0, 9.0, 9.0, 9.0, 10.0, 10.0, 10.0, 10.0, 11.0, 11.0, 12.0, 12.0, 12.0, 12.0, 12.0, 12.0, 12.0, 13.0, 13.0, 13.0, 13.0, 13.0, 14.0, 15.0, 15.0, 16.0, 17.0, 17.0, 17.0, 18.0, 18.0, 18.0, 19.0, 19.0, 19.0, 20.0, 20.0, 20.0, 21.0, 21.0, 21.0, 22.0, 22.0, 22.0, 23.0, 23.0, 23.0, 24.0, 24.0, 24.0, 25.0, 25.0, 25.0, 26.0, 26.0, 26.0, 27.0, 27.0, 27.0, 28.0, 28.0, 29.0, 29.0, 30.0, 30.0, 30.0, 31.0, 32.0, 32.0, 33.0, 33.0, 33.0, 34.0, 35.0, 35.0, 36.0, 37.0, 38.0, 39.0, 40.0, 40.0, 41.0, 42.0, 43.0, 45.0, 46.0, 47.0, 49.0, 51.0, 53.0, 56.0, 59.0, 64.0, 72.0, 156.0], \"median\": 23.0, \"numeric\": true, \"num_unique\": 116, \"num_undefined\": 1007, \"var\": 220.77967979528574, \"progress\": 1.0, \"size\": 25843, \"frequent_items\": {\"0\": {\"frequency\": 104, \"value\": 0}, \"2\": {\"frequency\": 273, \"value\": 2}, \"3\": {\"frequency\": 85, \"value\": 3}, \"4\": {\"frequency\": 136, \"value\": 4}, \"5\": {\"frequency\": 271, \"value\": 5}, \"6\": {\"frequency\": 92, \"value\": 6}, \"7\": {\"frequency\": 490, \"value\": 7}, \"8\": {\"frequency\": 274, \"value\": 8}, \"9\": {\"frequency\": 596, \"value\": 9}, \"10\": {\"frequency\": 939, \"value\": 10}, \"11\": {\"frequency\": 635, \"value\": 11}, \"12\": {\"frequency\": 1729, \"value\": 12}, \"13\": {\"frequency\": 1251, \"value\": 13}, \"14\": {\"frequency\": 296, \"value\": 14}, \"15\": {\"frequency\": 389, \"value\": 15}, \"16\": {\"frequency\": 369, \"value\": 16}, \"17\": {\"frequency\": 729, \"value\": 17}, \"18\": {\"frequency\": 616, \"value\": 18}, \"19\": {\"frequency\": 756, \"value\": 19}, \"20\": {\"frequency\": 790, \"value\": 20}, \"21\": {\"frequency\": 736, \"value\": 21}, \"22\": {\"frequency\": 820, \"value\": 22}, \"23\": {\"frequency\": 665, \"value\": 23}, \"24\": {\"frequency\": 785, \"value\": 24}, \"25\": {\"frequency\": 728, \"value\": 25}, \"26\": {\"frequency\": 678, \"value\": 26}, \"27\": {\"frequency\": 676, \"value\": 27}, \"28\": {\"frequency\": 677, \"value\": 28}, \"29\": {\"frequency\": 505, \"value\": 29}, \"30\": {\"frequency\": 569, \"value\": 30}, \"31\": {\"frequency\": 468, \"value\": 31}, \"32\": {\"frequency\": 493, \"value\": 32}, \"33\": {\"frequency\": 509, \"value\": 33}, \"34\": {\"frequency\": 324, \"value\": 34}, \"35\": {\"frequency\": 427, \"value\": 35}, \"36\": {\"frequency\": 321, \"value\": 36}, \"37\": {\"frequency\": 320, \"value\": 37}, \"38\": {\"frequency\": 331, \"value\": 38}, \"39\": {\"frequency\": 245, \"value\": 39}, \"40\": {\"frequency\": 313, \"value\": 40}, \"41\": {\"frequency\": 207, \"value\": 41}, \"42\": {\"frequency\": 246, \"value\": 42}, \"43\": {\"frequency\": 253, \"value\": 43}, \"44\": {\"frequency\": 178, \"value\": 44}, \"45\": {\"frequency\": 207, \"value\": 45}, \"46\": {\"frequency\": 153, \"value\": 46}, \"47\": {\"frequency\": 194, \"value\": 47}, \"48\": {\"frequency\": 170, \"value\": 48}, \"49\": {\"frequency\": 106, \"value\": 49}, \"50\": {\"frequency\": 151, \"value\": 50}, \"51\": {\"frequency\": 142, \"value\": 51}, \"52\": {\"frequency\": 114, \"value\": 52}, \"53\": {\"frequency\": 112, \"value\": 53}, \"54\": {\"frequency\": 84, \"value\": 54}, \"55\": {\"frequency\": 86, \"value\": 55}, \"56\": {\"frequency\": 101, \"value\": 56}, \"57\": {\"frequency\": 78, \"value\": 57}, \"58\": {\"frequency\": 73, \"value\": 58}, \"59\": {\"frequency\": 52, \"value\": 59}, \"60\": {\"frequency\": 66, \"value\": 60}, \"61\": {\"frequency\": 52, \"value\": 61}, \"62\": {\"frequency\": 45, \"value\": 62}, \"63\": {\"frequency\": 44, \"value\": 63}, \"64\": {\"frequency\": 47, \"value\": 64}, \"65\": {\"frequency\": 30, \"value\": 65}, \"66\": {\"frequency\": 45, \"value\": 66}, \"67\": {\"frequency\": 24, \"value\": 67}, \"68\": {\"frequency\": 37, \"value\": 68}, \"69\": {\"frequency\": 26, \"value\": 69}, \"70\": {\"frequency\": 24, \"value\": 70}, \"71\": {\"frequency\": 28, \"value\": 71}, \"72\": {\"frequency\": 16, \"value\": 72}, \"73\": {\"frequency\": 23, \"value\": 73}, \"74\": {\"frequency\": 20, \"value\": 74}, \"75\": {\"frequency\": 10, \"value\": 75}, \"76\": {\"frequency\": 10, \"value\": 76}, \"77\": {\"frequency\": 14, \"value\": 77}, \"78\": {\"frequency\": 9, \"value\": 78}, \"79\": {\"frequency\": 5, \"value\": 79}, \"80\": {\"frequency\": 7, \"value\": 80}, \"81\": {\"frequency\": 14, \"value\": 81}, \"82\": {\"frequency\": 12, \"value\": 82}, \"83\": {\"frequency\": 9, \"value\": 83}, \"84\": {\"frequency\": 10, \"value\": 84}, \"85\": {\"frequency\": 6, \"value\": 85}, \"86\": {\"frequency\": 7, \"value\": 86}, \"87\": {\"frequency\": 5, \"value\": 87}, \"88\": {\"frequency\": 7, \"value\": 88}, \"89\": {\"frequency\": 4, \"value\": 89}, \"90\": {\"frequency\": 5, \"value\": 90}, \"91\": {\"frequency\": 4, \"value\": 91}, \"92\": {\"frequency\": 3, \"value\": 92}, \"93\": {\"frequency\": 5, \"value\": 93}, \"94\": {\"frequency\": 3, \"value\": 94}, \"95\": {\"frequency\": 2, \"value\": 95}, \"96\": {\"frequency\": 4, \"value\": 96}, \"97\": {\"frequency\": 4, \"value\": 97}, \"98\": {\"frequency\": 3, \"value\": 98}, \"99\": {\"frequency\": 4, \"value\": 99}, \"100\": {\"frequency\": 2, \"value\": 100}, \"102\": {\"frequency\": 2, \"value\": 102}, \"103\": {\"frequency\": 3, \"value\": 103}, \"105\": {\"frequency\": 2, \"value\": 105}, \"106\": {\"frequency\": 2, \"value\": 106}, \"107\": {\"frequency\": 1, \"value\": 107}, \"108\": {\"frequency\": 2, \"value\": 108}, \"109\": {\"frequency\": 1, \"value\": 109}, \"111\": {\"frequency\": 2, \"value\": 111}, \"112\": {\"frequency\": 1, \"value\": 112}, \"114\": {\"frequency\": 1, \"value\": 114}, \"115\": {\"frequency\": 2, \"value\": 115}, \"116\": {\"frequency\": 1, \"value\": 116}, \"117\": {\"frequency\": 1, \"value\": 117}, \"122\": {\"frequency\": 1, \"value\": 122}, \"131\": {\"frequency\": 1, \"value\": 131}, \"156\": {\"frequency\": 1, \"value\": 156}}, \"mean\": 25.031003382187173}, \"selected_variable\": {\"name\": [\"<SArray>\"], \"dtype\": \"int\", \"view_component\": \"Numeric\", \"view_file\": \"sarray\", \"descriptives\": {\"rows\": 25843}, \"type\": \"SArray\", \"view_components\": [\"Numeric\", \"Categorical\"]}, \"histogram\": {\"progress\": 1.0, \"histogram\": {\"max\": 156.488, \"bins\": [5624, 8930, 6298, 2679, 870, 286, 95, 35, 16, 1, 1, 1], \"min\": -0.1839999999999975}, \"min\": 0, \"complete\": 1, \"max\": 156}}, e);\n",
       "                });\n",
       "            })();\n",
       "        "
      ]
     },
     "metadata": {},
     "output_type": "display_data"
    }
   ],
   "source": [
    "data_per_case['max_score'].show(view='Numeric')"
   ]
  },
  {
   "cell_type": "code",
   "execution_count": 171,
   "metadata": {
    "collapsed": false
   },
   "outputs": [
    {
     "data": {
      "application/javascript": [
       "$(\"head\").append($(\"<link/>\").attr({\n",
       "  rel:  \"stylesheet\",\n",
       "  type: \"text/css\",\n",
       "  href: \"//cdnjs.cloudflare.com/ajax/libs/font-awesome/4.1.0/css/font-awesome.min.css\"\n",
       "}));\n",
       "$(\"head\").append($(\"<link/>\").attr({\n",
       "  rel:  \"stylesheet\",\n",
       "  type: \"text/css\",\n",
       "  href: \"//dato.com/files/canvas/1.9/css/canvas.css\"\n",
       "}));\n",
       "\n",
       "            (function(){\n",
       "\n",
       "                var e = null;\n",
       "                if (typeof element == 'undefined') {\n",
       "                    var scripts = document.getElementsByTagName('script');\n",
       "                    var thisScriptTag = scripts[scripts.length-1];\n",
       "                    var parentDiv = thisScriptTag.parentNode;\n",
       "                    e = document.createElement('div');\n",
       "                    parentDiv.appendChild(e);\n",
       "                } else {\n",
       "                    e = element[0];\n",
       "                }\n",
       "\n",
       "                if (typeof requirejs !== 'undefined') {\n",
       "                    // disable load timeout; ipython_app.js is large and can take a while to load.\n",
       "                    requirejs.config({waitSeconds: 0});\n",
       "                }\n",
       "\n",
       "                require(['//dato.com/files/canvas/1.9/js/ipython_app.js'], function(IPythonApp){\n",
       "                    var app = new IPythonApp();\n",
       "                    app.attachView('sarray','Numeric', {\"ipython\": true, \"sketch\": {\"std\": 4.6041070769690595, \"complete\": true, \"min\": -2.0, \"max\": 114.0, \"quantile\": [-2.0, 0.0, 0.0, 0.0, 0.0, 0.0, 0.0, 2.0, 2.0, 2.0, 2.0, 2.0, 2.0, 2.0, 2.0, 2.0, 2.0, 2.0, 2.0, 2.0, 2.0, 2.0, 2.0, 2.0, 2.0, 3.0, 3.0, 3.0, 3.0, 3.0, 3.0, 4.0, 4.0, 4.0, 4.0, 4.0, 4.0, 4.0, 4.0, 5.0, 5.0, 5.0, 5.0, 5.0, 5.0, 5.0, 5.0, 5.0, 5.0, 5.0, 6.0, 6.0, 6.0, 6.0, 6.0, 7.0, 7.0, 7.0, 7.0, 7.0, 7.0, 7.0, 7.0, 7.0, 7.0, 7.0, 7.0, 7.0, 7.0, 8.0, 8.0, 8.0, 8.0, 8.0, 8.0, 9.0, 9.0, 9.0, 9.0, 9.0, 9.0, 9.0, 9.0, 9.0, 10.0, 10.0, 10.0, 10.0, 10.0, 10.0, 10.0, 11.0, 11.0, 11.0, 12.0, 12.0, 12.0, 13.0, 14.0, 21.0, 114.0], \"median\": 6.0, \"numeric\": true, \"num_unique\": 65, \"num_undefined\": 1007, \"var\": 21.19780197619658, \"progress\": 1.0, \"size\": 25843, \"frequent_items\": {\"0\": {\"frequency\": 1631, \"value\": 0}, \"2\": {\"frequency\": 4447, \"value\": 2}, \"3\": {\"frequency\": 1513, \"value\": 3}, \"4\": {\"frequency\": 1872, \"value\": 4}, \"5\": {\"frequency\": 2918, \"value\": 5}, \"6\": {\"frequency\": 1036, \"value\": 6}, \"7\": {\"frequency\": 3564, \"value\": 7}, \"8\": {\"frequency\": 1432, \"value\": 8}, \"9\": {\"frequency\": 2321, \"value\": 9}, \"10\": {\"frequency\": 1648, \"value\": 10}, \"11\": {\"frequency\": 724, \"value\": 11}, \"12\": {\"frequency\": 874, \"value\": 12}, \"13\": {\"frequency\": 298, \"value\": 13}, \"14\": {\"frequency\": 50, \"value\": 14}, \"15\": {\"frequency\": 30, \"value\": 15}, \"16\": {\"frequency\": 31, \"value\": 16}, \"17\": {\"frequency\": 43, \"value\": 17}, \"18\": {\"frequency\": 33, \"value\": 18}, \"19\": {\"frequency\": 38, \"value\": 19}, \"20\": {\"frequency\": 31, \"value\": 20}, \"21\": {\"frequency\": 20, \"value\": 21}, \"22\": {\"frequency\": 24, \"value\": 22}, \"23\": {\"frequency\": 16, \"value\": 23}, \"24\": {\"frequency\": 19, \"value\": 24}, \"25\": {\"frequency\": 15, \"value\": 25}, \"26\": {\"frequency\": 11, \"value\": 26}, \"27\": {\"frequency\": 13, \"value\": 27}, \"28\": {\"frequency\": 24, \"value\": 28}, \"29\": {\"frequency\": 11, \"value\": 29}, \"30\": {\"frequency\": 26, \"value\": 30}, \"31\": {\"frequency\": 3, \"value\": 31}, \"32\": {\"frequency\": 10, \"value\": 32}, \"33\": {\"frequency\": 9, \"value\": 33}, \"34\": {\"frequency\": 3, \"value\": 34}, \"35\": {\"frequency\": 6, \"value\": 35}, \"36\": {\"frequency\": 5, \"value\": 36}, \"39\": {\"frequency\": 2, \"value\": 39}, \"40\": {\"frequency\": 7, \"value\": 40}, \"41\": {\"frequency\": 2, \"value\": 41}, \"42\": {\"frequency\": 2, \"value\": 42}, \"43\": {\"frequency\": 1, \"value\": 43}, \"44\": {\"frequency\": 1, \"value\": 44}, \"45\": {\"frequency\": 1, \"value\": 45}, \"46\": {\"frequency\": 2, \"value\": 46}, \"48\": {\"frequency\": 1, \"value\": 48}, \"49\": {\"frequency\": 2, \"value\": 49}, \"50\": {\"frequency\": 1, \"value\": 50}, \"51\": {\"frequency\": 1, \"value\": 51}, \"53\": {\"frequency\": 1, \"value\": 53}, \"55\": {\"frequency\": 1, \"value\": 55}, \"56\": {\"frequency\": 3, \"value\": 56}, \"57\": {\"frequency\": 1, \"value\": 57}, \"58\": {\"frequency\": 5, \"value\": 58}, \"59\": {\"frequency\": 1, \"value\": 59}, \"61\": {\"frequency\": 1, \"value\": 61}, \"64\": {\"frequency\": 1, \"value\": 64}, \"65\": {\"frequency\": 2, \"value\": 65}, \"69\": {\"frequency\": 1, \"value\": 69}, \"71\": {\"frequency\": 2, \"value\": 71}, \"72\": {\"frequency\": 1, \"value\": 72}, \"77\": {\"frequency\": 1, \"value\": 77}, \"84\": {\"frequency\": 2, \"value\": 84}, \"114\": {\"frequency\": 1, \"value\": 114}, \"-2\": {\"frequency\": 1, \"value\": -2}, \"-1\": {\"frequency\": 39, \"value\": -1}}, \"mean\": 6.0568932195200595}, \"selected_variable\": {\"name\": [\"<SArray>\"], \"dtype\": \"int\", \"view_component\": \"Numeric\", \"view_file\": \"sarray\", \"descriptives\": {\"rows\": 25843}, \"type\": \"SArray\", \"view_components\": [\"Numeric\", \"Categorical\"]}, \"histogram\": {\"progress\": 1.0, \"histogram\": {\"max\": 114.47200000000001, \"bins\": [17021, 7451, 207, 110, 18, 10, 11, 4, 3, 0, 0, 1], \"min\": -2.263999999999996}, \"min\": -2, \"complete\": 1, \"max\": 114}}, e);\n",
       "                });\n",
       "            })();\n",
       "        "
      ]
     },
     "metadata": {},
     "output_type": "display_data"
    }
   ],
   "source": [
    "data_per_case['min_score'].show(view='Numeric')"
   ]
  },
  {
   "cell_type": "code",
   "execution_count": 172,
   "metadata": {
    "collapsed": false
   },
   "outputs": [
    {
     "data": {
      "application/javascript": [
       "$(\"head\").append($(\"<link/>\").attr({\n",
       "  rel:  \"stylesheet\",\n",
       "  type: \"text/css\",\n",
       "  href: \"//cdnjs.cloudflare.com/ajax/libs/font-awesome/4.1.0/css/font-awesome.min.css\"\n",
       "}));\n",
       "$(\"head\").append($(\"<link/>\").attr({\n",
       "  rel:  \"stylesheet\",\n",
       "  type: \"text/css\",\n",
       "  href: \"//dato.com/files/canvas/1.9/css/canvas.css\"\n",
       "}));\n",
       "\n",
       "            (function(){\n",
       "\n",
       "                var e = null;\n",
       "                if (typeof element == 'undefined') {\n",
       "                    var scripts = document.getElementsByTagName('script');\n",
       "                    var thisScriptTag = scripts[scripts.length-1];\n",
       "                    var parentDiv = thisScriptTag.parentNode;\n",
       "                    e = document.createElement('div');\n",
       "                    parentDiv.appendChild(e);\n",
       "                } else {\n",
       "                    e = element[0];\n",
       "                }\n",
       "\n",
       "                if (typeof requirejs !== 'undefined') {\n",
       "                    // disable load timeout; ipython_app.js is large and can take a while to load.\n",
       "                    requirejs.config({waitSeconds: 0});\n",
       "                }\n",
       "\n",
       "                require(['//dato.com/files/canvas/1.9/js/ipython_app.js'], function(IPythonApp){\n",
       "                    var app = new IPythonApp();\n",
       "                    app.attachView('sframe','Plots', {\"selected_variable\": {\"name\": [\"<SFrame>\"], \"descriptives\": {\"rows\": 25843, \"columns\": 2}, \"view_component\": \"Plots\", \"view_file\": \"sframe\", \"view_params\": {\"y\": \"max_score\", \"x\": \"min_score\", \"columns\": [\"min_score\", \"max_score\"], \"view\": \"Scatter Plot\"}, \"view_components\": [\"Summary\", \"Table\", \"Bar Chart\", \"BoxWhisker Plot\", \"Line Chart\", \"Scatter Plot\", \"Heat Map\", \"Plots\"], \"type\": \"SFrame\", \"columns\": [{\"dtype\": \"int\", \"name\": \"min_score\"}, {\"dtype\": \"int\", \"name\": \"max_score\"}], \"column_identifiers\": [\"min_score\", \"max_score\"]}, \"complete\": 1, \"ipython\": true, \"progress\": 1.0, \"data\": [[11, 50], [2, 2], [6, 10], [9, 40], [7, 42], [7, 48], [4, 43], [5, 9], [7, 12], [2, 21], [3, 29], [6, 21], [10, 10], [7, 29], [9, 29], [2, 14], [9, 10], [7, 33], [2, 27], [5, 56], [7, 71], [8, 27], [5, 11], [2, 17], [6, 6], [0, 12], [2, 31], [3, 43], [2, 43], [9, 36], [12, 12], [9, 52], [3, 10], [7, 12], [2, 23], [5, 37], [12, 38], [5, 12], [3, 21], [5, 23], [8, 21], [5, 52], [5, 24], [3, 18], [10, 10], [5, 9], [8, 12], [9, 34], [5, 29], [7, 12], [5, 28], [3, 25], [6, 38], [5, 19], [10, 56], [5, 18], [0, 40], [9, 47], [2, 27], [2, 19], [9, 12], [0, 24], [8, 17], [8, 12], [2, 21], [9, 21], [2, 10], [10, 33], [2, 12], [5, 33], [3, 57], [5, 53], [2, 26], [0, 10], [0, 29], [2, 19], [11, 39], [0, 23], [8, 44], [5, 11], [8, 37], [7, 30], [8, 18], [3, 34], [9, 17], [10, 32], [7, 26], [6, 35], [2, 2], [11, 11], [2, 27], [4, 26], [5, 64], [2, 12], [0, 45], [10, 30], [10, 31], [-1, 24], [2, 29], [3, 31], [9, 22], [10, 31], [7, 13], [25, 25], [8, 19], [2, 42], [5, 47], [58, 58], [3, 12], [0, 0], [4, 17], [4, 82], [2, 50], [13, 20], [2, 20], [3, 3], [2, 19], [5, 9], [7, 19], [12, 40], [9, 12], [4, 12], [2, 57], [3, 5], [4, 13], [9, 35], [3, 11], [10, 25], [11, 20], [2, 28], [2, 32], [2, 2], [2, 22], [2, 17], [2, 26], [8, 8], [13, 14], [0, 25], [2, 24], [9, 39], [10, 33], [4, 4], [11, 44], [9, 26], [5, 20], [8, 25], [7, 12], [2, 26], [2, 20], [13, 13], [7, 40], [4, 24], [5, 32], [6, 11], [2, 2], [4, 33], [4, 17], [5, 24], [4, 28], [7, 13], [7, 55], [9, 27], [7, 21], [2, 37], [5, 25], [7, 18], [0, 28], [4, 30], [10, 26], [7, 26], [2, 12], [2, 15], [9, 40], [6, 20], [7, 12], [7, 15], [6, 25], [7, 15], [7, 10], [2, 7], [4, 33], [2, 8], [5, 39], [3, 14], [4, 43], [2, 7], [9, 43], [5, 14], [11, 43], [3, 26], [2, 17], [9, 39], [9, 19], [4, 26], [2, 24], [9, 54], [3, 20], [8, 43], [5, 33], [5, 21], [7, 41], [16, 16], [9, 27], [10, 26], [6, 31], [0, 15], [2, 2], [2, 3], [13, 18], [4, 12], [0, 13], [8, 31], [2, 2], [7, 20], [2, 32], [7, 18], [2, 27], [9, 25], [11, 13], [0, 22], [2, 25], [10, 10], [5, 13], [5, 42], [2, 12], [0, 24], [4, 29], [2, 19], [6, 27], [3, 60], [2, 29], [10, 25], [7, 27], [5, 31], [11, 36], [11, 13], [5, 5], [21, 40], [2, 67], [2, 11], [0, 12], [7, 42], [5, 22], [12, 21], [8, 35], [5, 11], [0, 47], [2, 11], [7, 35], [7, 19], [7, 26], [7, 62], [2, 12], [7, 27], [6, 14], [3, 9], [10, 27], [7, 45], [9, 47], [9, 16], [0, 63], [3, 15], [8, 9], [2, 22], [5, 16], [3, 3], [3, 19], [8, 12], [10, 10], [7, 36], [5, 12], [11, 38], [5, 9], [12, 44], [6, 18], [5, 57], [7, 13], [8, 12], [8, 25], [2, 32], [4, 22], [5, 41], [12, 40], [0, 23], [4, 29], [10, 34], [7, 33], [2, 12], [5, 31], [10, 42], [8, 35], [10, 19], [2, 12], [3, 43], [3, 3], [8, 28], [3, 43], [4, 4], [12, 21], [2, 13], [3, 17], [7, 21], [2, 15], [5, 40], [2, 38], [2, 106], [0, 29], [12, 12], [5, 31], [17, 21], [5, 36], [0, 36], [3, 22], [2, 13], [9, 27], [5, 13], [7, 26], [3, 55], [4, 15], [9, 38], [7, 33], [12, 39], [7, 13], [8, 14], [7, 11], [2, 24], [7, 30], [4, 12], [2, 2], [4, 22], [10, 18], [3, 17], [7, 19], [9, 11], [7, 26], [6, 26], [2, 17], [2, 10], [2, 34], [5, 11], [2, 15], [0, 24], [3, 12], [10, 36], [27, 27], [7, 7], [5, 37], [2, 9], [10, 19], [2, 27], [4, 13], [11, 43], [12, 47], [10, 31], [4, 117], [7, 22], [7, 22], [2, 5], [2, 10], [2, 16], [4, 5], [9, 27], [5, 69], [9, 18], [2, 61], [3, 10], [7, 21], [5, 23], [4, 15], [2, 30], [5, 20], [7, 28], [8, 16], [8, 12], [7, 47], [7, 38], [7, 52], [0, 31], [4, 10], [2, 20], [5, 37], [4, 20], [10, 20], [8, 24], [5, 12], [13, 18], [10, 10], [6, 6], [2, 13], [2, 67], [9, 24], [6, 6], [2, 14], [2, 20], [10, 32], [7, 48], [2, 21], [7, 13], [3, 12], [5, 44], [7, 23], [10, 32], [0, 16], [9, 43], [7, 24], [3, 33], [3, 4], [9, 41], [5, 34], [11, 27], [7, 22], [5, 24], [10, 18], [5, 16], [4, 12], [0, 41], [9, 10], [36, 36], [8, 68], [0, 22], [9, 15], [10, 40], [4, 26], [2, 21], [5, 12], [12, 34], [7, 21], [2, 34], [7, 46], [10, 27], [3, 45], [6, 9], [8, 13], [6, 34], [2, 32], [5, 38], [0, 26], [7, 13], [3, 43], [2, 32], [2, 52], [11, 21], [7, 19], [7, 32], [2, 27], [5, 22], [9, 23], [5, 36], [2, 12], [7, 19], [3, 52], [0, 38], [6, 21], [5, 12], [7, 24], [7, 30], [2, 48], [11, 21], [8, 20], [5, 12], [9, 25], [10, 10], [0, 11], [2, 32], [2, 12], [9, 21], [12, 35], [2, 17], [3, 23], [2, 27], [2, 24], [3, 42], [2, 11], [2, 35], [3, 35], [5, 12], [9, 9], [7, 23], [10, 17], [8, 28], [8, 19], [7, 26], [3, 31], [5, 13], [7, 22], [3, 8], [0, 22], [5, 42], [4, 17], [2, 46], [8, 9], [11, 29], [7, 34], [2, 25], [8, 31], [10, 10], [2, 20], [7, 27], [10, 23], [3, 23], [4, 4], [10, 47], [8, 12], [0, 12], [3, 22], [0, 24], [7, 21], [7, 19], [9, 28], [7, 12], [7, 11], [0, 35], [7, 22], [2, 41], [5, 20], [9, 24], [5, 21], [2, 33], [4, 9], [10, 21], [8, 10], [12, 35], [6, 25], [3, 19], [9, 9], [2, 13], [10, 22], [2, 17], [9, 23], [10, 10], [4, 51], [7, 12], [0, 12], [2, 2], [4, 9], [2, 43], [4, 17], [7, 13], [7, 27], [2, 30], [5, 12], [2, 29], [12, 13], [2, 24], [7, 32], [5, 8], [0, 21], [0, 16], [5, 19], [0, 47], [2, 20], [7, 27], [6, 11], [2, 27], [22, 22], [7, 23], [6, 32], [5, 35], [7, 7], [7, 12], [13, 13], [9, 32], [2, 35], [2, 27], [11, 12], [3, 59], [13, 13], [10, 49], [2, 12], [5, 11], [0, 14], [10, 12], [9, 35], [8, 27], [2, 21], [7, 23], [9, 12], [7, 28], [5, 10], [7, 33], [5, 26], [19, 19], [2, 5], [2, 2], [5, 5], [2, 10], [5, 25], [10, 10], [2, 24], [8, 52], [8, 19], [8, 27], [9, 12], [3, 20], [3, 10], [10, 29], [0, 12], [16, 17], [5, 20], [3, 11], [10, 13], [0, 41], [9, 29], [7, 34], [10, 21], [10, 25], [25, 53], [0, 26], [3, 26], [0, 28], [10, 29], [3, 43], [9, 37], [0, 30], [2, 17], [0, 9], [5, 34], [2, 26], [7, 40], [2, 31], [9, 49], [2, 18], [8, 19], [2, 77], [12, 12], [7, 57], [2, 12], [5, 47], [10, 13], [3, 45], [10, 28], [7, 25], [2, 9], [7, 26], [5, 24], [7, 13], [9, 52], [11, 17], [2, 17], [11, 39], [3, 11], [2, 2], [4, 10], [2, 11], [2, 26], [2, 23], [7, 24], [12, 19], [10, 10], [7, 9], [7, 22], [9, 22], [4, 7], [2, 65], [5, 13], [2, 22], [3, 24], [10, 44], [5, 25], [3, 12], [0, 2], [5, 5], [10, 32], [12, 12], [2, 70], [12, 12], [10, 53], [9, 31], [2, 33], [9, 33], [11, 22], [9, 21], [10, 10], [8, 17], [4, 12], [2, 4], [10, 22], [3, 22], [4, 19], [2, 2], [2, 13], [12, 46], [9, 31], [11, 32], [7, 32], [3, 63], [10, 19], [2, 10], [3, 32], [4, 16], [11, 19], [6, 13], [11, 33], [2, 19], [12, 22], [9, 30], [2, 8], [9, 11], [4, 12], [6, 23], [7, 25], [5, 10], [7, 10], [9, 9], [9, 29], [3, 30], [5, 17], [7, 18], [2, 15], [2, 14], [5, 5], [7, 7], [2, 23], [2, 13], [2, 2], [2, 26], [2, 17], [7, 44], [7, 17], [10, 35], [7, 7], [10, 43], [7, 44], [10, 25], [4, 43], [2, 24], [11, 12], [5, 17], [5, 12], [7, 10], [5, 23], [10, 10], [12, 37], [5, 5], [7, 44], [2, 26], [2, 13], [4, 15], [10, 15], [2, 30], [10, 41], [6, 6], [4, 24], [11, 26], [8, 42], [5, 20], [2, 2], [9, 23], [7, 27], [8, 34], [3, 32], [10, 10], [2, 12], [7, 27], [8, 33], [5, 17], [7, 21], [7, 26], [4, 26], [0, 28], [4, 23], [17, 18], [3, 21], [5, 18], [8, 52], [4, 9], [7, 18], [11, 11], [2, 9], [9, 31], [10, 18], [2, 28], [2, 12], [7, 19], [7, 13], [7, 26], [6, 34], [9, 28], [7, 36], [4, 9], [7, 19], [0, 35], [2, 11], [6, 33], [2, 13], [7, 23], [8, 29], [7, 10], [5, 31], [2, 19], [9, 36], [9, 9], [2, 8], [12, 39], [2, 28], [7, 50], [2, 24], [7, 7], [4, 27], [0, 19], [4, 9], [2, 24], [9, 12], [2, 26], [2, 38], [4, 25], [8, 20], [3, 5], [5, 5], [5, 25], [13, 13], [9, 10], [0, 13], [5, 21], [8, 25], [4, 12], [5, 13], [5, 60], [0, 18], [6, 97], [5, 18], [0, 12], [2, 12], [17, 17], [2, 35], [6, 45], [5, 38], [7, 49], [7, 37], [5, 26], [9, 11], [0, 3], [11, 29], [5, 27], [7, 32], [7, 34], [5, 10], [0, 9], [7, 15], [8, 14], [2, 30], [5, 19], [10, 21], [0, 5], [5, 26], [5, 21], [9, 12], [9, 42], [13, 13], [7, 28], [2, 16], [7, 27], [7, 26], [6, 27], [12, 47], [9, 36], [10, 13], [2, 2], [2, 45], [7, 48], [4, 17], [2, 2], [7, 55], [7, 60], [2, 45], [9, 27], [0, 12], [7, 40], [5, 35], [2, 13], [5, 44], [7, 7], [11, 11], [3, 46], [6, 33], [2, 26], [2, 33], [8, 50], [7, 25], [10, 41], [5, 9], [5, 22], [3, 12], [2, 12], [2, 18], [2, 21], [7, 25], [4, 19], [9, 17], [7, 42], [7, 31], [4, 12], [2, 12], [5, 26], [0, 36], [12, 12], [0, 7], [2, 5], [7, 25], [5, 44], [10, 33], [0, 10], [4, 17], [5, 37], [0, 21], [7, 37], [12, 12], [2, 35], [3, 23], [3, 18], [2, 5], [2, 94], [0, 30], [12, 42], [13, 31], [12, 25], [25, 25], [5, 13], [2, 32], [4, 12], [2, 13], [3, 3], [5, 50], [6, 10], [5, 27], [12, 30], [12, 34], [0, 64], [2, 11], [5, 42], [13, 48], [9, 45], [8, 12], [0, 30], [7, 32], [11, 21], [8, 20], [7, 44], [0, 39], [7, 23], [5, 29], [3, 14], [4, 45], [7, 13], [5, 19], [4, 19], [9, 22], [2, 3], [8, 42], [2, 27], [4, 30], [5, 19], [7, 33], [5, 40], [11, 11]], \"columns\": [{\"dtype\": \"int\", \"name\": \"min_score\"}, {\"dtype\": \"int\", \"name\": \"max_score\"}]}, e);\n",
       "                });\n",
       "            })();\n",
       "        "
      ]
     },
     "metadata": {},
     "output_type": "display_data"
    }
   ],
   "source": [
    "data_per_case['min_score', 'max_score'].show(view='Scatter Plot')"
   ]
  },
  {
   "cell_type": "code",
   "execution_count": 18,
   "metadata": {
    "collapsed": false
   },
   "outputs": [],
   "source": [
    "import re\n",
    "def make_key(text):\n",
    "    return '1'+re.sub(\"[^0-9]\", \"\", str(text))\n",
    "data_per_case['phone_key'] = data_per_case['PHONE'].apply(make_key)"
   ]
  },
  {
   "cell_type": "code",
   "execution_count": 19,
   "metadata": {
    "collapsed": false
   },
   "outputs": [
    {
     "data": {
      "text/html": [
       "<pre>Finished parsing file /home/sam/Desktop/data_incubator/Q3/nyc_food_yelp.tsv</pre>"
      ],
      "text/plain": [
       "Finished parsing file /home/sam/Desktop/data_incubator/Q3/nyc_food_yelp.tsv"
      ]
     },
     "metadata": {},
     "output_type": "display_data"
    },
    {
     "data": {
      "text/html": [
       "<pre>Parsing completed. Parsed 100 lines in 0.129742 secs.</pre>"
      ],
      "text/plain": [
       "Parsing completed. Parsed 100 lines in 0.129742 secs."
      ]
     },
     "metadata": {},
     "output_type": "display_data"
    },
    {
     "name": "stdout",
     "output_type": "stream",
     "text": [
      "------------------------------------------------------\n",
      "Inferred types from first 100 line(s) of file as \n",
      "column_type_hints=[str,str,str,float,int,int]\n",
      "If parsing fails due to incorrect types, you can correct\n",
      "the inferred type list above and pass it to read_csv in\n",
      "the column_type_hints argument\n",
      "------------------------------------------------------\n"
     ]
    },
    {
     "data": {
      "text/html": [
       "<pre>Finished parsing file /home/sam/Desktop/data_incubator/Q3/nyc_food_yelp.tsv</pre>"
      ],
      "text/plain": [
       "Finished parsing file /home/sam/Desktop/data_incubator/Q3/nyc_food_yelp.tsv"
      ]
     },
     "metadata": {},
     "output_type": "display_data"
    },
    {
     "data": {
      "text/html": [
       "<pre>Parsing completed. Parsed 18694 lines in 0.061059 secs.</pre>"
      ],
      "text/plain": [
       "Parsing completed. Parsed 18694 lines in 0.061059 secs."
      ]
     },
     "metadata": {},
     "output_type": "display_data"
    }
   ],
   "source": [
    "yelp_data = graphlab.load_sframe('nyc_food_yelp.tsv')"
   ]
  },
  {
   "cell_type": "code",
   "execution_count": 20,
   "metadata": {
    "collapsed": false
   },
   "outputs": [],
   "source": [
    "def get_review(phone):\n",
    "    arr = yelp_data[yelp_data['Phone'] == int(phone)]['Review']\n",
    "    if len(arr) > 0:\n",
    "        return arr[0]\n",
    "    else:\n",
    "        return -1\n",
    "data_per_case['yelp review'] = data_per_case['phone_key'].apply(get_review)"
   ]
  },
  {
   "cell_type": "code",
   "execution_count": 21,
   "metadata": {
    "collapsed": false,
    "scrolled": true
   },
   "outputs": [
    {
     "data": {
      "text/html": [
       "<div style=\"max-height:1000px;max-width:1500px;overflow:auto;\"><table frame=\"box\" rules=\"cols\">\n",
       "    <tr>\n",
       "        <th style=\"padding-left: 1em; padding-right: 1em; text-align: center\">CAMIS</th>\n",
       "        <th style=\"padding-left: 1em; padding-right: 1em; text-align: center\">PHONE</th>\n",
       "        <th style=\"padding-left: 1em; padding-right: 1em; text-align: center\">Count</th>\n",
       "        <th style=\"padding-left: 1em; padding-right: 1em; text-align: center\">std_score</th>\n",
       "        <th style=\"padding-left: 1em; padding-right: 1em; text-align: center\">min_score</th>\n",
       "        <th style=\"padding-left: 1em; padding-right: 1em; text-align: center\">average_score</th>\n",
       "        <th style=\"padding-left: 1em; padding-right: 1em; text-align: center\">flag_freq</th>\n",
       "    </tr>\n",
       "    <tr>\n",
       "        <td style=\"padding-left: 1em; padding-right: 1em; text-align: center; vertical-align: top\">50015663</td>\n",
       "        <td style=\"padding-left: 1em; padding-right: 1em; text-align: center; vertical-align: top\">7188887770</td>\n",
       "        <td style=\"padding-left: 1em; padding-right: 1em; text-align: center; vertical-align: top\">24</td>\n",
       "        <td style=\"padding-left: 1em; padding-right: 1em; text-align: center; vertical-align: top\">17.7873385864</td>\n",
       "        <td style=\"padding-left: 1em; padding-right: 1em; text-align: center; vertical-align: top\">11</td>\n",
       "        <td style=\"padding-left: 1em; padding-right: 1em; text-align: center; vertical-align: top\">28.0434782609</td>\n",
       "        <td style=\"padding-left: 1em; padding-right: 1em; text-align: center; vertical-align: top\">{'Not Critical': 8,<br>'Critical': 16} ...</td>\n",
       "    </tr>\n",
       "    <tr>\n",
       "        <td style=\"padding-left: 1em; padding-right: 1em; text-align: center; vertical-align: top\">41701178</td>\n",
       "        <td style=\"padding-left: 1em; padding-right: 1em; text-align: center; vertical-align: top\">7186222722</td>\n",
       "        <td style=\"padding-left: 1em; padding-right: 1em; text-align: center; vertical-align: top\">17</td>\n",
       "        <td style=\"padding-left: 1em; padding-right: 1em; text-align: center; vertical-align: top\">2.83819719572</td>\n",
       "        <td style=\"padding-left: 1em; padding-right: 1em; text-align: center; vertical-align: top\">7</td>\n",
       "        <td style=\"padding-left: 1em; padding-right: 1em; text-align: center; vertical-align: top\">12.9411764706</td>\n",
       "        <td style=\"padding-left: 1em; padding-right: 1em; text-align: center; vertical-align: top\">{'Not Critical': 6,<br>'Critical': 11} ...</td>\n",
       "    </tr>\n",
       "    <tr>\n",
       "        <td style=\"padding-left: 1em; padding-right: 1em; text-align: center; vertical-align: top\">50056245</td>\n",
       "        <td style=\"padding-left: 1em; padding-right: 1em; text-align: center; vertical-align: top\">2122192282</td>\n",
       "        <td style=\"padding-left: 1em; padding-right: 1em; text-align: center; vertical-align: top\">1</td>\n",
       "        <td style=\"padding-left: 1em; padding-right: 1em; text-align: center; vertical-align: top\">0.0</td>\n",
       "        <td style=\"padding-left: 1em; padding-right: 1em; text-align: center; vertical-align: top\">None</td>\n",
       "        <td style=\"padding-left: 1em; padding-right: 1em; text-align: center; vertical-align: top\">None</td>\n",
       "        <td style=\"padding-left: 1em; padding-right: 1em; text-align: center; vertical-align: top\">{'Not Applicable': 1}</td>\n",
       "    </tr>\n",
       "    <tr>\n",
       "        <td style=\"padding-left: 1em; padding-right: 1em; text-align: center; vertical-align: top\">41501688</td>\n",
       "        <td style=\"padding-left: 1em; padding-right: 1em; text-align: center; vertical-align: top\">2126772172</td>\n",
       "        <td style=\"padding-left: 1em; padding-right: 1em; text-align: center; vertical-align: top\">19</td>\n",
       "        <td style=\"padding-left: 1em; padding-right: 1em; text-align: center; vertical-align: top\">9.96443379367</td>\n",
       "        <td style=\"padding-left: 1em; padding-right: 1em; text-align: center; vertical-align: top\">4</td>\n",
       "        <td style=\"padding-left: 1em; padding-right: 1em; text-align: center; vertical-align: top\">14.6923076923</td>\n",
       "        <td style=\"padding-left: 1em; padding-right: 1em; text-align: center; vertical-align: top\">{'Not Critical': 12,<br>'Critical': 7} ...</td>\n",
       "    </tr>\n",
       "    <tr>\n",
       "        <td style=\"padding-left: 1em; padding-right: 1em; text-align: center; vertical-align: top\">41144948</td>\n",
       "        <td style=\"padding-left: 1em; padding-right: 1em; text-align: center; vertical-align: top\">2126004113</td>\n",
       "        <td style=\"padding-left: 1em; padding-right: 1em; text-align: center; vertical-align: top\">22</td>\n",
       "        <td style=\"padding-left: 1em; padding-right: 1em; text-align: center; vertical-align: top\">9.19562704696</td>\n",
       "        <td style=\"padding-left: 1em; padding-right: 1em; text-align: center; vertical-align: top\">4</td>\n",
       "        <td style=\"padding-left: 1em; padding-right: 1em; text-align: center; vertical-align: top\">17.4210526316</td>\n",
       "        <td style=\"padding-left: 1em; padding-right: 1em; text-align: center; vertical-align: top\">{'Not Critical': 12,<br>'Critical': 9, 'Not ...</td>\n",
       "    </tr>\n",
       "    <tr>\n",
       "        <td style=\"padding-left: 1em; padding-right: 1em; text-align: center; vertical-align: top\">41335133</td>\n",
       "        <td style=\"padding-left: 1em; padding-right: 1em; text-align: center; vertical-align: top\">2126087440</td>\n",
       "        <td style=\"padding-left: 1em; padding-right: 1em; text-align: center; vertical-align: top\">32</td>\n",
       "        <td style=\"padding-left: 1em; padding-right: 1em; text-align: center; vertical-align: top\">17.137341279</td>\n",
       "        <td style=\"padding-left: 1em; padding-right: 1em; text-align: center; vertical-align: top\">7</td>\n",
       "        <td style=\"padding-left: 1em; padding-right: 1em; text-align: center; vertical-align: top\">28.0344827586</td>\n",
       "        <td style=\"padding-left: 1em; padding-right: 1em; text-align: center; vertical-align: top\">{'Not Critical': 6,<br>'Critical': 24, 'Not ...</td>\n",
       "    </tr>\n",
       "    <tr>\n",
       "        <td style=\"padding-left: 1em; padding-right: 1em; text-align: center; vertical-align: top\">41160209</td>\n",
       "        <td style=\"padding-left: 1em; padding-right: 1em; text-align: center; vertical-align: top\">7183387272</td>\n",
       "        <td style=\"padding-left: 1em; padding-right: 1em; text-align: center; vertical-align: top\">6</td>\n",
       "        <td style=\"padding-left: 1em; padding-right: 1em; text-align: center; vertical-align: top\">3.41565025532</td>\n",
       "        <td style=\"padding-left: 1em; padding-right: 1em; text-align: center; vertical-align: top\">2</td>\n",
       "        <td style=\"padding-left: 1em; padding-right: 1em; text-align: center; vertical-align: top\">6.0</td>\n",
       "        <td style=\"padding-left: 1em; padding-right: 1em; text-align: center; vertical-align: top\">{'Not Critical': 4,<br>'Critical': 2} ...</td>\n",
       "    </tr>\n",
       "    <tr>\n",
       "        <td style=\"padding-left: 1em; padding-right: 1em; text-align: center; vertical-align: top\">50036334</td>\n",
       "        <td style=\"padding-left: 1em; padding-right: 1em; text-align: center; vertical-align: top\">6463675762</td>\n",
       "        <td style=\"padding-left: 1em; padding-right: 1em; text-align: center; vertical-align: top\">2</td>\n",
       "        <td style=\"padding-left: 1em; padding-right: 1em; text-align: center; vertical-align: top\">3.5</td>\n",
       "        <td style=\"padding-left: 1em; padding-right: 1em; text-align: center; vertical-align: top\">0</td>\n",
       "        <td style=\"padding-left: 1em; padding-right: 1em; text-align: center; vertical-align: top\">3.5</td>\n",
       "        <td style=\"padding-left: 1em; padding-right: 1em; text-align: center; vertical-align: top\">{'Critical': 1, 'Not<br>Applicable': 1} ...</td>\n",
       "    </tr>\n",
       "    <tr>\n",
       "        <td style=\"padding-left: 1em; padding-right: 1em; text-align: center; vertical-align: top\">50005447</td>\n",
       "        <td style=\"padding-left: 1em; padding-right: 1em; text-align: center; vertical-align: top\">7186391235</td>\n",
       "        <td style=\"padding-left: 1em; padding-right: 1em; text-align: center; vertical-align: top\">14</td>\n",
       "        <td style=\"padding-left: 1em; padding-right: 1em; text-align: center; vertical-align: top\">1.4356965173</td>\n",
       "        <td style=\"padding-left: 1em; padding-right: 1em; text-align: center; vertical-align: top\">8</td>\n",
       "        <td style=\"padding-left: 1em; padding-right: 1em; text-align: center; vertical-align: top\">10.2857142857</td>\n",
       "        <td style=\"padding-left: 1em; padding-right: 1em; text-align: center; vertical-align: top\">{'Not Critical': 6,<br>'Critical': 8} ...</td>\n",
       "    </tr>\n",
       "    <tr>\n",
       "        <td style=\"padding-left: 1em; padding-right: 1em; text-align: center; vertical-align: top\">41529703</td>\n",
       "        <td style=\"padding-left: 1em; padding-right: 1em; text-align: center; vertical-align: top\">2122472055</td>\n",
       "        <td style=\"padding-left: 1em; padding-right: 1em; text-align: center; vertical-align: top\">25</td>\n",
       "        <td style=\"padding-left: 1em; padding-right: 1em; text-align: center; vertical-align: top\">3.48343185963</td>\n",
       "        <td style=\"padding-left: 1em; padding-right: 1em; text-align: center; vertical-align: top\">9</td>\n",
       "        <td style=\"padding-left: 1em; padding-right: 1em; text-align: center; vertical-align: top\">13.9545454545</td>\n",
       "        <td style=\"padding-left: 1em; padding-right: 1em; text-align: center; vertical-align: top\">{'Not Critical': 17,<br>'Critical': 8} ...</td>\n",
       "    </tr>\n",
       "</table>\n",
       "<table frame=\"box\" rules=\"cols\">\n",
       "    <tr>\n",
       "        <th style=\"padding-left: 1em; padding-right: 1em; text-align: center\">code_freq</th>\n",
       "        <th style=\"padding-left: 1em; padding-right: 1em; text-align: center\">max_score</th>\n",
       "        <th style=\"padding-left: 1em; padding-right: 1em; text-align: center\">has_critical</th>\n",
       "        <th style=\"padding-left: 1em; padding-right: 1em; text-align: center\">phone_key</th>\n",
       "        <th style=\"padding-left: 1em; padding-right: 1em; text-align: center\">yelp review</th>\n",
       "    </tr>\n",
       "    <tr>\n",
       "        <td style=\"padding-left: 1em; padding-right: 1em; text-align: center; vertical-align: top\">{'04M': 1, '04L': 1,<br>'02B': 3, '03A': 1, ...</td>\n",
       "        <td style=\"padding-left: 1em; padding-right: 1em; text-align: center; vertical-align: top\">50</td>\n",
       "        <td style=\"padding-left: 1em; padding-right: 1em; text-align: center; vertical-align: top\">1</td>\n",
       "        <td style=\"padding-left: 1em; padding-right: 1em; text-align: center; vertical-align: top\">17188887770</td>\n",
       "        <td style=\"padding-left: 1em; padding-right: 1em; text-align: center; vertical-align: top\">3.5</td>\n",
       "    </tr>\n",
       "    <tr>\n",
       "        <td style=\"padding-left: 1em; padding-right: 1em; text-align: center; vertical-align: top\">{'04N': 2, '04L': 4,<br>'10F': 1, '04A': 1, ...</td>\n",
       "        <td style=\"padding-left: 1em; padding-right: 1em; text-align: center; vertical-align: top\">16</td>\n",
       "        <td style=\"padding-left: 1em; padding-right: 1em; text-align: center; vertical-align: top\">1</td>\n",
       "        <td style=\"padding-left: 1em; padding-right: 1em; text-align: center; vertical-align: top\">17186222722</td>\n",
       "        <td style=\"padding-left: 1em; padding-right: 1em; text-align: center; vertical-align: top\">3.5</td>\n",
       "    </tr>\n",
       "    <tr>\n",
       "        <td style=\"padding-left: 1em; padding-right: 1em; text-align: center; vertical-align: top\">{'': 1}</td>\n",
       "        <td style=\"padding-left: 1em; padding-right: 1em; text-align: center; vertical-align: top\">None</td>\n",
       "        <td style=\"padding-left: 1em; padding-right: 1em; text-align: center; vertical-align: top\">0</td>\n",
       "        <td style=\"padding-left: 1em; padding-right: 1em; text-align: center; vertical-align: top\">12122192282</td>\n",
       "        <td style=\"padding-left: 1em; padding-right: 1em; text-align: center; vertical-align: top\">5.0</td>\n",
       "    </tr>\n",
       "    <tr>\n",
       "        <td style=\"padding-left: 1em; padding-right: 1em; text-align: center; vertical-align: top\">{'02G': 1, '10B': 1,<br>'22C': 1, '10F': 2, ...</td>\n",
       "        <td style=\"padding-left: 1em; padding-right: 1em; text-align: center; vertical-align: top\">27</td>\n",
       "        <td style=\"padding-left: 1em; padding-right: 1em; text-align: center; vertical-align: top\">1</td>\n",
       "        <td style=\"padding-left: 1em; padding-right: 1em; text-align: center; vertical-align: top\">12126772172</td>\n",
       "        <td style=\"padding-left: 1em; padding-right: 1em; text-align: center; vertical-align: top\">4.0</td>\n",
       "    </tr>\n",
       "    <tr>\n",
       "        <td style=\"padding-left: 1em; padding-right: 1em; text-align: center; vertical-align: top\">{'': 1, '04N': 3, '02G':<br>1, '04L': 1, '04H': 1, ...</td>\n",
       "        <td style=\"padding-left: 1em; padding-right: 1em; text-align: center; vertical-align: top\">33</td>\n",
       "        <td style=\"padding-left: 1em; padding-right: 1em; text-align: center; vertical-align: top\">1</td>\n",
       "        <td style=\"padding-left: 1em; padding-right: 1em; text-align: center; vertical-align: top\">12126004113</td>\n",
       "        <td style=\"padding-left: 1em; padding-right: 1em; text-align: center; vertical-align: top\">-1.0</td>\n",
       "    </tr>\n",
       "    <tr>\n",
       "        <td style=\"padding-left: 1em; padding-right: 1em; text-align: center; vertical-align: top\">{'': 2, '04M': 1, '04J':<br>1, '04H': 1, '10B': 1, ...</td>\n",
       "        <td style=\"padding-left: 1em; padding-right: 1em; text-align: center; vertical-align: top\">56</td>\n",
       "        <td style=\"padding-left: 1em; padding-right: 1em; text-align: center; vertical-align: top\">1</td>\n",
       "        <td style=\"padding-left: 1em; padding-right: 1em; text-align: center; vertical-align: top\">12126087440</td>\n",
       "        <td style=\"padding-left: 1em; padding-right: 1em; text-align: center; vertical-align: top\">4.5</td>\n",
       "    </tr>\n",
       "    <tr>\n",
       "        <td style=\"padding-left: 1em; padding-right: 1em; text-align: center; vertical-align: top\">{'10B': 1, '02G': 2,<br>'10F': 3} ...</td>\n",
       "        <td style=\"padding-left: 1em; padding-right: 1em; text-align: center; vertical-align: top\">10</td>\n",
       "        <td style=\"padding-left: 1em; padding-right: 1em; text-align: center; vertical-align: top\">1</td>\n",
       "        <td style=\"padding-left: 1em; padding-right: 1em; text-align: center; vertical-align: top\">17183387272</td>\n",
       "        <td style=\"padding-left: 1em; padding-right: 1em; text-align: center; vertical-align: top\">1.0</td>\n",
       "    </tr>\n",
       "    <tr>\n",
       "        <td style=\"padding-left: 1em; padding-right: 1em; text-align: center; vertical-align: top\">{'': 1, '04C': 1}</td>\n",
       "        <td style=\"padding-left: 1em; padding-right: 1em; text-align: center; vertical-align: top\">7</td>\n",
       "        <td style=\"padding-left: 1em; padding-right: 1em; text-align: center; vertical-align: top\">1</td>\n",
       "        <td style=\"padding-left: 1em; padding-right: 1em; text-align: center; vertical-align: top\">16463675762</td>\n",
       "        <td style=\"padding-left: 1em; padding-right: 1em; text-align: center; vertical-align: top\">-1.0</td>\n",
       "    </tr>\n",
       "    <tr>\n",
       "        <td style=\"padding-left: 1em; padding-right: 1em; text-align: center; vertical-align: top\">{'10H': 1, '02B': 1,<br>'10B': 1, '10A': 1, ...</td>\n",
       "        <td style=\"padding-left: 1em; padding-right: 1em; text-align: center; vertical-align: top\">12</td>\n",
       "        <td style=\"padding-left: 1em; padding-right: 1em; text-align: center; vertical-align: top\">1</td>\n",
       "        <td style=\"padding-left: 1em; padding-right: 1em; text-align: center; vertical-align: top\">17186391235</td>\n",
       "        <td style=\"padding-left: 1em; padding-right: 1em; text-align: center; vertical-align: top\">3.5</td>\n",
       "    </tr>\n",
       "    <tr>\n",
       "        <td style=\"padding-left: 1em; padding-right: 1em; text-align: center; vertical-align: top\">{'10H': 4, '10I': 1,<br>'04K': 1, '04H': 1, ...</td>\n",
       "        <td style=\"padding-left: 1em; padding-right: 1em; text-align: center; vertical-align: top\">20</td>\n",
       "        <td style=\"padding-left: 1em; padding-right: 1em; text-align: center; vertical-align: top\">1</td>\n",
       "        <td style=\"padding-left: 1em; padding-right: 1em; text-align: center; vertical-align: top\">12122472055</td>\n",
       "        <td style=\"padding-left: 1em; padding-right: 1em; text-align: center; vertical-align: top\">4.0</td>\n",
       "    </tr>\n",
       "</table>\n",
       "[25843 rows x 12 columns]<br/>Note: Only the head of the SFrame is printed.<br/>You can use print_rows(num_rows=m, num_columns=n) to print more rows and columns.\n",
       "</div>"
      ],
      "text/plain": [
       "Columns:\n",
       "\tCAMIS\tint\n",
       "\tPHONE\tint\n",
       "\tCount\tint\n",
       "\tstd_score\tfloat\n",
       "\tmin_score\tint\n",
       "\taverage_score\tfloat\n",
       "\tflag_freq\tdict\n",
       "\tcode_freq\tdict\n",
       "\tmax_score\tint\n",
       "\thas_critical\tint\n",
       "\tphone_key\tstr\n",
       "\tyelp review\tfloat\n",
       "\n",
       "Rows: 25843\n",
       "\n",
       "Data:\n",
       "+----------+------------+-------+---------------+-----------+---------------+\n",
       "|  CAMIS   |   PHONE    | Count |   std_score   | min_score | average_score |\n",
       "+----------+------------+-------+---------------+-----------+---------------+\n",
       "| 50015663 | 7188887770 |   24  | 17.7873385864 |     11    | 28.0434782609 |\n",
       "| 41701178 | 7186222722 |   17  | 2.83819719572 |     7     | 12.9411764706 |\n",
       "| 50056245 | 2122192282 |   1   |      0.0      |    None   |      None     |\n",
       "| 41501688 | 2126772172 |   19  | 9.96443379367 |     4     | 14.6923076923 |\n",
       "| 41144948 | 2126004113 |   22  | 9.19562704696 |     4     | 17.4210526316 |\n",
       "| 41335133 | 2126087440 |   32  |  17.137341279 |     7     | 28.0344827586 |\n",
       "| 41160209 | 7183387272 |   6   | 3.41565025532 |     2     |      6.0      |\n",
       "| 50036334 | 6463675762 |   2   |      3.5      |     0     |      3.5      |\n",
       "| 50005447 | 7186391235 |   14  |  1.4356965173 |     8     | 10.2857142857 |\n",
       "| 41529703 | 2122472055 |   25  | 3.48343185963 |     9     | 13.9545454545 |\n",
       "+----------+------------+-------+---------------+-----------+---------------+\n",
       "+-------------------------------+--------------------------------+-----------+--------------+\n",
       "|           flag_freq           |           code_freq            | max_score | has_critical |\n",
       "+-------------------------------+--------------------------------+-----------+--------------+\n",
       "| {'Not Critical': 8, 'Criti... | {'04M': 1, '04L': 1, '02B'...  |     50    |      1       |\n",
       "| {'Not Critical': 6, 'Criti... | {'04N': 2, '04L': 4, '10F'...  |     16    |      1       |\n",
       "|     {'Not Applicable': 1}     |            {'': 1}             |    None   |      0       |\n",
       "| {'Not Critical': 12, 'Crit... | {'02G': 1, '10B': 1, '22C'...  |     27    |      1       |\n",
       "| {'Not Critical': 12, 'Crit... | {'': 1, '04N': 3, '02G': 1...  |     33    |      1       |\n",
       "| {'Not Critical': 6, 'Criti... | {'': 2, '04M': 1, '04J': 1...  |     56    |      1       |\n",
       "| {'Not Critical': 4, 'Criti... | {'10B': 1, '02G': 2, '10F': 3} |     10    |      1       |\n",
       "| {'Critical': 1, 'Not Appli... |       {'': 1, '04C': 1}        |     7     |      1       |\n",
       "| {'Not Critical': 6, 'Criti... | {'10H': 1, '02B': 1, '10B'...  |     12    |      1       |\n",
       "| {'Not Critical': 17, 'Crit... | {'10H': 4, '10I': 1, '04K'...  |     20    |      1       |\n",
       "+-------------------------------+--------------------------------+-----------+--------------+\n",
       "+-------------+-------------+\n",
       "|  phone_key  | yelp review |\n",
       "+-------------+-------------+\n",
       "| 17188887770 |     3.5     |\n",
       "| 17186222722 |     3.5     |\n",
       "| 12122192282 |     5.0     |\n",
       "| 12126772172 |     4.0     |\n",
       "| 12126004113 |     -1.0    |\n",
       "| 12126087440 |     4.5     |\n",
       "| 17183387272 |     1.0     |\n",
       "| 16463675762 |     -1.0    |\n",
       "| 17186391235 |     3.5     |\n",
       "| 12122472055 |     4.0     |\n",
       "+-------------+-------------+\n",
       "[25843 rows x 12 columns]\n",
       "Note: Only the head of the SFrame is printed.\n",
       "You can use print_rows(num_rows=m, num_columns=n) to print more rows and columns."
      ]
     },
     "execution_count": 21,
     "metadata": {},
     "output_type": "execute_result"
    }
   ],
   "source": [
    "data_per_case"
   ]
  },
  {
   "cell_type": "code",
   "execution_count": null,
   "metadata": {
    "collapsed": false
   },
   "outputs": [],
   "source": [
    "from operator import is_not\n",
    "from functools import partial\n",
    "\n",
    "matplotlib.rcParams['lines.linewidth'] = 3.0\n",
    "rev_vals = data_per_case[data_per_case['yelp review'] >= 0]['yelp review'].unique()\n",
    "fig = plt.figure(1, figsize=(9, 6))\n",
    "ax = fig.add_subplot(111)\n",
    "\n",
    "\n",
    "data_to_plot =[]\n",
    "labels=[]\n",
    "for i in rev_vals.sort():\n",
    "    a = data_per_case[data_per_case['yelp review'] == i]['max_score']\n",
    "    a = filter(partial(is_not,None) ,a)\n",
    "    data_to_plot.append(a)\n",
    "    labels.append(str(i))\n",
    "\n",
    "\n",
    "ax.axhspan(0, 13,facecolor='green',linewidth=0.0, alpha=0.3)\n",
    "ax.axhspan(13, 27,facecolor='yellow',linewidth=0.0, alpha=0.3)\n",
    "ax.axhspan(27, 159,facecolor='red',linewidth=0.0, alpha=0.2)\n",
    "#ax.axhline(y=13, xmin=0, xmax=6, c='green',linewidth=1.0, alpha=0.6)\n",
    "\n",
    "ax.boxplot(data_to_plot)\n",
    "\n",
    "ax.set_xticklabels(labels)\n",
    "ax.set_xlabel('Yelp Review', fontsize=20)\n",
    "ax.set_ylabel('Maximum Inspection Score', fontsize=20)\n",
    "ax.set_ylim([0,100])\n",
    "\n",
    "fig.savefig('yelp_review_vs_inspection_score.png', dpi=600)"
   ]
  },
  {
   "cell_type": "code",
   "execution_count": 22,
   "metadata": {
    "collapsed": false
   },
   "outputs": [
    {
     "data": {
      "text/plain": [
       "14016"
      ]
     },
     "execution_count": 22,
     "metadata": {},
     "output_type": "execute_result"
    }
   ],
   "source": [
    "data_per_case[data_per_case['max_score'] >  20].num_rows()"
   ]
  },
  {
   "cell_type": "code",
   "execution_count": null,
   "metadata": {
    "collapsed": false
   },
   "outputs": [],
   "source": [
    "from operator import is_not\n",
    "from functools import partial\n",
    "\n",
    "matplotlib.rcParams['lines.linewidth'] = 3.0\n",
    "rev_vals = data_per_case[data_per_case['yelp review'] >= 0]['yelp review'].unique()\n",
    "fig = plt.figure(1, figsize=(9, 6))\n",
    "ax = fig.add_subplot(111)\n",
    "\n",
    "\n",
    "data_to_plot =[]\n",
    "labels=[]\n",
    "for i in rev_vals.sort():\n",
    "    a = data_per_case[data_per_case['yelp review'] == i]['min_score']\n",
    "    a = filter(partial(is_not,None) ,a)\n",
    "    data_to_plot.append(a)\n",
    "    labels.append(str(i))\n",
    "\n",
    "\n",
    "ax.axhspan(0, 13,facecolor='green',linewidth=0.0, alpha=0.3)\n",
    "ax.axhspan(13, 27,facecolor='yellow',linewidth=0.0, alpha=0.3)\n",
    "ax.axhspan(27, 159,facecolor='red',linewidth=0.0, alpha=0.2)\n",
    "#ax.axhline(y=13, xmin=0, xmax=6, c='green',linewidth=1.0, alpha=0.6)\n",
    "\n",
    "ax.boxplot(data_to_plot)\n",
    "\n",
    "ax.set_xticklabels(labels)\n",
    "ax.set_xlabel('Yelp Review', fontsize=20)\n",
    "ax.set_ylabel('Minimum Inspection Score', fontsize=20)\n",
    "ax.set_ylim([0,60])\n",
    "\n",
    "fig.savefig('yelp_review_vs_inspection_score_min.png', dpi=600)"
   ]
  },
  {
   "cell_type": "code",
   "execution_count": null,
   "metadata": {
    "collapsed": true
   },
   "outputs": [],
   "source": []
  }
 ],
 "metadata": {
  "kernelspec": {
   "display_name": "Python 2",
   "language": "python",
   "name": "python2"
  },
  "language_info": {
   "codemirror_mode": {
    "name": "ipython",
    "version": 2
   },
   "file_extension": ".py",
   "mimetype": "text/x-python",
   "name": "python",
   "nbconvert_exporter": "python",
   "pygments_lexer": "ipython2",
   "version": "2.7.6"
  }
 },
 "nbformat": 4,
 "nbformat_minor": 0
}
